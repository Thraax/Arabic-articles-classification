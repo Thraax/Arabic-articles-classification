{
  "nbformat": 4,
  "nbformat_minor": 0,
  "metadata": {
    "colab": {
      "provenance": [],
      "collapsed_sections": []
    },
    "kernelspec": {
      "name": "python3",
      "display_name": "Python 3"
    },
    "language_info": {
      "name": "python"
    }
  },
  "cells": [
    {
      "cell_type": "markdown",
      "source": [
        "<center>\n",
        "<h1> Seach in arabic documents </h1>\n",
        "\n",
        "</centre>"
      ],
      "metadata": {
        "id": "MbxQCdyohWC_"
      }
    },
    {
      "cell_type": "markdown",
      "source": [
        "## Import tools"
      ],
      "metadata": {
        "id": "OTXh1WVnNqg2"
      }
    },
    {
      "cell_type": "code",
      "source": [
        "!pip install PyArabic"
      ],
      "metadata": {
        "colab": {
          "base_uri": "https://localhost:8080/"
        },
        "id": "Ohvivsioipvs",
        "outputId": "98b022e1-223f-4b86-fd79-fe79c0159a0f"
      },
      "execution_count": 1,
      "outputs": [
        {
          "output_type": "stream",
          "name": "stdout",
          "text": [
            "Looking in indexes: https://pypi.org/simple, https://us-python.pkg.dev/colab-wheels/public/simple/\n",
            "Requirement already satisfied: PyArabic in /usr/local/lib/python3.7/dist-packages (0.6.15)\n",
            "Requirement already satisfied: six>=1.14.0 in /usr/local/lib/python3.7/dist-packages (from PyArabic) (1.15.0)\n"
          ]
        }
      ]
    },
    {
      "cell_type": "code",
      "source": [
        "!pip install opendatasets"
      ],
      "metadata": {
        "id": "m9g6pSN5OFPu",
        "colab": {
          "base_uri": "https://localhost:8080/"
        },
        "outputId": "bb785b9a-e54a-4520-ded6-309cc35c80d3"
      },
      "execution_count": 2,
      "outputs": [
        {
          "output_type": "stream",
          "name": "stdout",
          "text": [
            "Looking in indexes: https://pypi.org/simple, https://us-python.pkg.dev/colab-wheels/public/simple/\n",
            "Requirement already satisfied: opendatasets in /usr/local/lib/python3.7/dist-packages (0.1.22)\n",
            "Requirement already satisfied: kaggle in /usr/local/lib/python3.7/dist-packages (from opendatasets) (1.5.12)\n",
            "Requirement already satisfied: tqdm in /usr/local/lib/python3.7/dist-packages (from opendatasets) (4.64.1)\n",
            "Requirement already satisfied: click in /usr/local/lib/python3.7/dist-packages (from opendatasets) (7.1.2)\n",
            "Requirement already satisfied: python-dateutil in /usr/local/lib/python3.7/dist-packages (from kaggle->opendatasets) (2.8.2)\n",
            "Requirement already satisfied: six>=1.10 in /usr/local/lib/python3.7/dist-packages (from kaggle->opendatasets) (1.15.0)\n",
            "Requirement already satisfied: python-slugify in /usr/local/lib/python3.7/dist-packages (from kaggle->opendatasets) (6.1.2)\n",
            "Requirement already satisfied: requests in /usr/local/lib/python3.7/dist-packages (from kaggle->opendatasets) (2.23.0)\n",
            "Requirement already satisfied: certifi in /usr/local/lib/python3.7/dist-packages (from kaggle->opendatasets) (2022.6.15)\n",
            "Requirement already satisfied: urllib3 in /usr/local/lib/python3.7/dist-packages (from kaggle->opendatasets) (1.24.3)\n",
            "Requirement already satisfied: text-unidecode>=1.3 in /usr/local/lib/python3.7/dist-packages (from python-slugify->kaggle->opendatasets) (1.3)\n",
            "Requirement already satisfied: idna<3,>=2.5 in /usr/local/lib/python3.7/dist-packages (from requests->kaggle->opendatasets) (2.10)\n",
            "Requirement already satisfied: chardet<4,>=3.0.2 in /usr/local/lib/python3.7/dist-packages (from requests->kaggle->opendatasets) (3.0.4)\n"
          ]
        }
      ]
    },
    {
      "cell_type": "code",
      "source": [
        "import numpy as np\n",
        "import pandas as pd \n",
        "import tensorflow as tf\n",
        "import nltk\n",
        "from pyarabic.araby import tokenize, is_arabicrange, strip_tashkeel\n",
        "from nltk.corpus import stopwords\n",
        "import re\n",
        "import string\n",
        "from string import digits\n",
        "from sklearn.model_selection import train_test_split\n",
        "from sklearn.pipeline import Pipeline\n",
        "from sklearn.preprocessing import LabelEncoder\n",
        "from sklearn.feature_extraction.text import TfidfVectorizer\n",
        "from sklearn.naive_bayes import MultinomialNB\n",
        "from sklearn.neighbors import KNeighborsClassifier\n",
        "from sklearn.svm import LinearSVC\n",
        "from sklearn.metrics import classification_report\n",
        "from scipy import spatial\n",
        "import matplotlib.pyplot as plt\n",
        "import seaborn as sns\n",
        "sns.set()\n",
        "import os\n",
        "import opendatasets as od\n",
        "import pickle"
      ],
      "metadata": {
        "id": "EqX_uAHrNxUO"
      },
      "execution_count": 3,
      "outputs": []
    },
    {
      "cell_type": "markdown",
      "source": [
        "## Download the dataset\n",
        "[Click here to learn how to download dataset via API](https://www.geeksforgeeks.org/how-to-import-kaggle-datasets-directly-into-google-colab/#:~:text=Method%202%3A%20By%20easily%20downloading,folder%20to%20Google%20Colab%20Notebook.)"
      ],
      "metadata": {
        "id": "9hn_QfGDNjmm"
      }
    },
    {
      "cell_type": "code",
      "execution_count": 4,
      "metadata": {
        "id": "a01NgXs6Ksm9",
        "colab": {
          "base_uri": "https://localhost:8080/"
        },
        "outputId": "01255ec5-efcd-4fec-a902-fa85c12937a2"
      },
      "outputs": [
        {
          "output_type": "stream",
          "name": "stdout",
          "text": [
            "Skipping, found downloaded files in \"./sanad-dataset\" (use force=True to force download)\n"
          ]
        }
      ],
      "source": [
        "od.download(\"https://www.kaggle.com/datasets/haithemhermessi/sanad-dataset\")"
      ]
    },
    {
      "cell_type": "markdown",
      "source": [
        "## Load the data from directory"
      ],
      "metadata": {
        "id": "Al4eT8zDRGSn"
      }
    },
    {
      "cell_type": "code",
      "source": [
        "classes = os.listdir('/content/sanad-dataset') "
      ],
      "metadata": {
        "id": "Hp854KjxR6x3"
      },
      "execution_count": 5,
      "outputs": []
    },
    {
      "cell_type": "code",
      "source": [
        "classes"
      ],
      "metadata": {
        "colab": {
          "base_uri": "https://localhost:8080/"
        },
        "id": "wSy4JtcnR_im",
        "outputId": "45669d08-90d0-4d02-cf87-507653a13636"
      },
      "execution_count": 6,
      "outputs": [
        {
          "output_type": "execute_result",
          "data": {
            "text/plain": [
              "['Finance', 'Sports', 'Medical', 'Tech', 'Culture', 'Politics', 'Religion']"
            ]
          },
          "metadata": {},
          "execution_count": 6
        }
      ]
    },
    {
      "cell_type": "code",
      "source": [
        "def load_data():\n",
        "  return tf.keras.utils.text_dataset_from_directory(\n",
        "    '/content/sanad-dataset',\n",
        "    labels='inferred',\n",
        "    label_mode='int',\n",
        "    class_names=None,\n",
        "    max_length=None,\n",
        "    shuffle=True)"
      ],
      "metadata": {
        "id": "QM4l277mQnTG"
      },
      "execution_count": 7,
      "outputs": []
    },
    {
      "cell_type": "code",
      "source": [
        "dataset = load_data()"
      ],
      "metadata": {
        "colab": {
          "base_uri": "https://localhost:8080/"
        },
        "id": "QjYaIgDXR3b1",
        "outputId": "727b2b0d-951c-43b5-cc38-81ee347ba272"
      },
      "execution_count": 8,
      "outputs": [
        {
          "output_type": "stream",
          "name": "stdout",
          "text": [
            "Found 45500 files belonging to 7 classes.\n"
          ]
        }
      ]
    },
    {
      "cell_type": "markdown",
      "source": [
        "## Turn the dataset into DataFrame"
      ],
      "metadata": {
        "id": "WSy4vGcKSI5f"
      }
    },
    {
      "cell_type": "code",
      "source": [
        "x=[]\n",
        "y=[]\n",
        "for text_batch, label_batch in dataset:\n",
        "    for i in range(len(text_batch)):\n",
        "        s=text_batch.numpy()[i].decode(\"utf-8\") \n",
        "        x.append(s)\n",
        "        y.append(dataset.class_names[label_batch.numpy()[i]])\n",
        "print(len(x))\n",
        "print(len(y))"
      ],
      "metadata": {
        "colab": {
          "base_uri": "https://localhost:8080/"
        },
        "id": "1l5VGXgzSFD8",
        "outputId": "9637209d-cd17-46e3-a98a-dd53c2edd685"
      },
      "execution_count": 9,
      "outputs": [
        {
          "output_type": "stream",
          "name": "stdout",
          "text": [
            "45500\n",
            "45500\n"
          ]
        }
      ]
    },
    {
      "cell_type": "code",
      "source": [
        "df = pd.DataFrame({'Article': x, 'class':y})"
      ],
      "metadata": {
        "id": "5bMSjvrpSf-0"
      },
      "execution_count": 10,
      "outputs": []
    },
    {
      "cell_type": "code",
      "source": [
        "len(df)"
      ],
      "metadata": {
        "colab": {
          "base_uri": "https://localhost:8080/"
        },
        "id": "vQJCqwSEwB0I",
        "outputId": "42214dec-b0a6-46c3-d42f-cdf9dccb3858"
      },
      "execution_count": 11,
      "outputs": [
        {
          "output_type": "execute_result",
          "data": {
            "text/plain": [
              "45500"
            ]
          },
          "metadata": {},
          "execution_count": 11
        }
      ]
    },
    {
      "cell_type": "code",
      "source": [
        "df.head()"
      ],
      "metadata": {
        "colab": {
          "base_uri": "https://localhost:8080/",
          "height": 206
        },
        "id": "GcVW06RQS8kL",
        "outputId": "ccaf7920-4801-4369-ecb8-1f6caf04649b"
      },
      "execution_count": 12,
      "outputs": [
        {
          "output_type": "execute_result",
          "data": {
            "text/plain": [
              "                                             Article     class\n",
              "0  سينطلق سائق مرسيدس أي إم جي الألماني نيكو روزب...    Sports\n",
              "1  إعداد:محمد إبراهيم لا شك أن تاريخ الإمارات عام...  Religion\n",
              "2  تقدم أكسيس كوميونكيشنز سلسلتين جديدين من المنت...      Tech\n",
              "3  دبي \"الخليج\":تزامناً مع احتفالية العالم بيوم ا...   Medical\n",
              "4  لا شك أن محبي نادي أي سي ميلان الإيطالي يتطلعو...    Sports"
            ],
            "text/html": [
              "\n",
              "  <div id=\"df-d8c44d9a-7aee-4539-bb4c-b6b85d24427c\">\n",
              "    <div class=\"colab-df-container\">\n",
              "      <div>\n",
              "<style scoped>\n",
              "    .dataframe tbody tr th:only-of-type {\n",
              "        vertical-align: middle;\n",
              "    }\n",
              "\n",
              "    .dataframe tbody tr th {\n",
              "        vertical-align: top;\n",
              "    }\n",
              "\n",
              "    .dataframe thead th {\n",
              "        text-align: right;\n",
              "    }\n",
              "</style>\n",
              "<table border=\"1\" class=\"dataframe\">\n",
              "  <thead>\n",
              "    <tr style=\"text-align: right;\">\n",
              "      <th></th>\n",
              "      <th>Article</th>\n",
              "      <th>class</th>\n",
              "    </tr>\n",
              "  </thead>\n",
              "  <tbody>\n",
              "    <tr>\n",
              "      <th>0</th>\n",
              "      <td>سينطلق سائق مرسيدس أي إم جي الألماني نيكو روزب...</td>\n",
              "      <td>Sports</td>\n",
              "    </tr>\n",
              "    <tr>\n",
              "      <th>1</th>\n",
              "      <td>إعداد:محمد إبراهيم لا شك أن تاريخ الإمارات عام...</td>\n",
              "      <td>Religion</td>\n",
              "    </tr>\n",
              "    <tr>\n",
              "      <th>2</th>\n",
              "      <td>تقدم أكسيس كوميونكيشنز سلسلتين جديدين من المنت...</td>\n",
              "      <td>Tech</td>\n",
              "    </tr>\n",
              "    <tr>\n",
              "      <th>3</th>\n",
              "      <td>دبي \"الخليج\":تزامناً مع احتفالية العالم بيوم ا...</td>\n",
              "      <td>Medical</td>\n",
              "    </tr>\n",
              "    <tr>\n",
              "      <th>4</th>\n",
              "      <td>لا شك أن محبي نادي أي سي ميلان الإيطالي يتطلعو...</td>\n",
              "      <td>Sports</td>\n",
              "    </tr>\n",
              "  </tbody>\n",
              "</table>\n",
              "</div>\n",
              "      <button class=\"colab-df-convert\" onclick=\"convertToInteractive('df-d8c44d9a-7aee-4539-bb4c-b6b85d24427c')\"\n",
              "              title=\"Convert this dataframe to an interactive table.\"\n",
              "              style=\"display:none;\">\n",
              "        \n",
              "  <svg xmlns=\"http://www.w3.org/2000/svg\" height=\"24px\"viewBox=\"0 0 24 24\"\n",
              "       width=\"24px\">\n",
              "    <path d=\"M0 0h24v24H0V0z\" fill=\"none\"/>\n",
              "    <path d=\"M18.56 5.44l.94 2.06.94-2.06 2.06-.94-2.06-.94-.94-2.06-.94 2.06-2.06.94zm-11 1L8.5 8.5l.94-2.06 2.06-.94-2.06-.94L8.5 2.5l-.94 2.06-2.06.94zm10 10l.94 2.06.94-2.06 2.06-.94-2.06-.94-.94-2.06-.94 2.06-2.06.94z\"/><path d=\"M17.41 7.96l-1.37-1.37c-.4-.4-.92-.59-1.43-.59-.52 0-1.04.2-1.43.59L10.3 9.45l-7.72 7.72c-.78.78-.78 2.05 0 2.83L4 21.41c.39.39.9.59 1.41.59.51 0 1.02-.2 1.41-.59l7.78-7.78 2.81-2.81c.8-.78.8-2.07 0-2.86zM5.41 20L4 18.59l7.72-7.72 1.47 1.35L5.41 20z\"/>\n",
              "  </svg>\n",
              "      </button>\n",
              "      \n",
              "  <style>\n",
              "    .colab-df-container {\n",
              "      display:flex;\n",
              "      flex-wrap:wrap;\n",
              "      gap: 12px;\n",
              "    }\n",
              "\n",
              "    .colab-df-convert {\n",
              "      background-color: #E8F0FE;\n",
              "      border: none;\n",
              "      border-radius: 50%;\n",
              "      cursor: pointer;\n",
              "      display: none;\n",
              "      fill: #1967D2;\n",
              "      height: 32px;\n",
              "      padding: 0 0 0 0;\n",
              "      width: 32px;\n",
              "    }\n",
              "\n",
              "    .colab-df-convert:hover {\n",
              "      background-color: #E2EBFA;\n",
              "      box-shadow: 0px 1px 2px rgba(60, 64, 67, 0.3), 0px 1px 3px 1px rgba(60, 64, 67, 0.15);\n",
              "      fill: #174EA6;\n",
              "    }\n",
              "\n",
              "    [theme=dark] .colab-df-convert {\n",
              "      background-color: #3B4455;\n",
              "      fill: #D2E3FC;\n",
              "    }\n",
              "\n",
              "    [theme=dark] .colab-df-convert:hover {\n",
              "      background-color: #434B5C;\n",
              "      box-shadow: 0px 1px 3px 1px rgba(0, 0, 0, 0.15);\n",
              "      filter: drop-shadow(0px 1px 2px rgba(0, 0, 0, 0.3));\n",
              "      fill: #FFFFFF;\n",
              "    }\n",
              "  </style>\n",
              "\n",
              "      <script>\n",
              "        const buttonEl =\n",
              "          document.querySelector('#df-d8c44d9a-7aee-4539-bb4c-b6b85d24427c button.colab-df-convert');\n",
              "        buttonEl.style.display =\n",
              "          google.colab.kernel.accessAllowed ? 'block' : 'none';\n",
              "\n",
              "        async function convertToInteractive(key) {\n",
              "          const element = document.querySelector('#df-d8c44d9a-7aee-4539-bb4c-b6b85d24427c');\n",
              "          const dataTable =\n",
              "            await google.colab.kernel.invokeFunction('convertToInteractive',\n",
              "                                                     [key], {});\n",
              "          if (!dataTable) return;\n",
              "\n",
              "          const docLinkHtml = 'Like what you see? Visit the ' +\n",
              "            '<a target=\"_blank\" href=https://colab.research.google.com/notebooks/data_table.ipynb>data table notebook</a>'\n",
              "            + ' to learn more about interactive tables.';\n",
              "          element.innerHTML = '';\n",
              "          dataTable['output_type'] = 'display_data';\n",
              "          await google.colab.output.renderOutput(dataTable, element);\n",
              "          const docLink = document.createElement('div');\n",
              "          docLink.innerHTML = docLinkHtml;\n",
              "          element.appendChild(docLink);\n",
              "        }\n",
              "      </script>\n",
              "    </div>\n",
              "  </div>\n",
              "  "
            ]
          },
          "metadata": {},
          "execution_count": 12
        }
      ]
    },
    {
      "cell_type": "markdown",
      "source": [
        "## Check for nulls and secret killers"
      ],
      "metadata": {
        "id": "dnuyy7BaVfls"
      }
    },
    {
      "cell_type": "code",
      "source": [
        "df.isnull().sum() / len(df) # Print percentage of NULL"
      ],
      "metadata": {
        "colab": {
          "base_uri": "https://localhost:8080/"
        },
        "id": "zZppqDRgUFar",
        "outputId": "563bc638-7165-4abc-9d10-daae21135f60"
      },
      "execution_count": 13,
      "outputs": [
        {
          "output_type": "execute_result",
          "data": {
            "text/plain": [
              "Article    0.0\n",
              "class      0.0\n",
              "dtype: float64"
            ]
          },
          "metadata": {},
          "execution_count": 13
        }
      ]
    },
    {
      "cell_type": "code",
      "source": [
        "df.duplicated().sum() / len(df)"
      ],
      "metadata": {
        "colab": {
          "base_uri": "https://localhost:8080/"
        },
        "id": "ttrHCRgxVnnh",
        "outputId": "ee8f113f-8043-4554-b955-a342f3ae433b"
      },
      "execution_count": 14,
      "outputs": [
        {
          "output_type": "execute_result",
          "data": {
            "text/plain": [
              "0.00032967032967032967"
            ]
          },
          "metadata": {},
          "execution_count": 14
        }
      ]
    },
    {
      "cell_type": "markdown",
      "source": [
        "### Removing the duplicates"
      ],
      "metadata": {
        "id": "LudJm4-JXqAa"
      }
    },
    {
      "cell_type": "code",
      "source": [
        "df.drop_duplicates(inplace=True)"
      ],
      "metadata": {
        "id": "kaG5PdArXkSZ"
      },
      "execution_count": 15,
      "outputs": []
    },
    {
      "cell_type": "markdown",
      "source": [
        "## Preprocessing and cleaning text"
      ],
      "metadata": {
        "id": "xOGzwdK3c0I-"
      }
    },
    {
      "cell_type": "markdown",
      "source": [
        " Most of cleaning regex and functions are belongs to this [gist](https://github.com/motazsaad/process-arabic-text/blob/master/clean_arabic_text.py) on github"
      ],
      "metadata": {
        "id": "3siiAxKyd2AF"
      }
    },
    {
      "cell_type": "code",
      "source": [
        "nltk.download('stopwords')\n",
        "nltk.download('punkt')"
      ],
      "metadata": {
        "id": "rH15rj3oXvWg",
        "colab": {
          "base_uri": "https://localhost:8080/"
        },
        "outputId": "12415c74-46f7-405e-f6c8-03c68d179010"
      },
      "execution_count": 16,
      "outputs": [
        {
          "output_type": "stream",
          "name": "stderr",
          "text": [
            "[nltk_data] Downloading package stopwords to /root/nltk_data...\n",
            "[nltk_data]   Package stopwords is already up-to-date!\n",
            "[nltk_data] Downloading package punkt to /root/nltk_data...\n",
            "[nltk_data]   Package punkt is already up-to-date!\n"
          ]
        },
        {
          "output_type": "execute_result",
          "data": {
            "text/plain": [
              "True"
            ]
          },
          "metadata": {},
          "execution_count": 16
        }
      ]
    },
    {
      "cell_type": "code",
      "source": [
        "arabic_nums =  ['٠', '١', '٢', '٣', '٤', '٥', '٦', '٧', '٨', '٩']"
      ],
      "metadata": {
        "id": "AQKr2vfz1sKD"
      },
      "execution_count": 17,
      "outputs": []
    },
    {
      "cell_type": "code",
      "source": [
        "ara_stop_words = list(set(stopwords.words('arabic'))) + arabic_nums"
      ],
      "metadata": {
        "id": "FW3qJlUSdC1z"
      },
      "execution_count": 18,
      "outputs": []
    },
    {
      "cell_type": "code",
      "source": [
        "len(ara_stop_words)"
      ],
      "metadata": {
        "colab": {
          "base_uri": "https://localhost:8080/"
        },
        "id": "X4HFuSGVdHhj",
        "outputId": "b9648c21-a61a-4f4a-cb9e-b772bae4d1f3"
      },
      "execution_count": 19,
      "outputs": [
        {
          "output_type": "execute_result",
          "data": {
            "text/plain": [
              "711"
            ]
          },
          "metadata": {},
          "execution_count": 19
        }
      ]
    },
    {
      "cell_type": "code",
      "source": [
        "arabic_punctuations = '''`÷×؛<>_()*&^%][ـ،/:\"؟.,،'{}~¦+«»`|!”…“–ـ'''\n",
        "english_punctuations = string.punctuation\n",
        "punctuations_list = arabic_punctuations + english_punctuations"
      ],
      "metadata": {
        "id": "uiC8ZOMmdI8L"
      },
      "execution_count": 20,
      "outputs": []
    },
    {
      "cell_type": "code",
      "source": [
        "punctuations_list = list(set(punctuations_list)) # Add all together"
      ],
      "metadata": {
        "id": "gpQ3877qjxM9"
      },
      "execution_count": 21,
      "outputs": []
    },
    {
      "cell_type": "code",
      "source": [
        "# This function for deleting any encoded emojis in the text\n",
        "def remove_emoji(text):\n",
        "    regrex_pattern = re.compile(pattern = \"[\"\n",
        "        u\"\\U0001F600-\\U0001F64F\"  # emoticons\n",
        "        u\"\\U0001F300-\\U0001F5FF\"  # symbols & pictographs\n",
        "        u\"\\U0001F680-\\U0001F6FF\"  # transport & map symbols\n",
        "        u\"\\U0001F1E0-\\U0001F1FF\"  # flags (iOS)\n",
        "                           \"]+\", flags = re.UNICODE)\n",
        "    return regrex_pattern.sub(r'',text)"
      ],
      "metadata": {
        "id": "YLPoM3Ezeodb"
      },
      "execution_count": 22,
      "outputs": []
    },
    {
      "cell_type": "code",
      "source": [
        "# This function should delete any non arabic text and numbers, also will remove 'tashkeel'\n",
        "def clean_arabic_txt(text):\n",
        "  res = remove_emoji(text)\n",
        "  res = ' '.join([word for word in text if word not in punctuations_list])\n",
        "  res = tokenize(text, conditions=is_arabicrange, morphs=strip_tashkeel)\n",
        "  res = ' '.join(res)\n",
        "  res = ''.join([words for words in res if words not in arabic_nums])\n",
        "  return res"
      ],
      "metadata": {
        "id": "gS6wASRxdjBs"
      },
      "execution_count": 23,
      "outputs": []
    },
    {
      "cell_type": "markdown",
      "source": [
        "<h2> Test the clean function </h2>"
      ],
      "metadata": {
        "id": "gzujJch6RO56"
      }
    },
    {
      "cell_type": "code",
      "source": [
        "TEXT = 'السلام عليكم 1234 ورحمة الله،،!@# ٧٧٧'"
      ],
      "metadata": {
        "id": "EEElPdr1MZ_-"
      },
      "execution_count": 24,
      "outputs": []
    },
    {
      "cell_type": "code",
      "source": [
        "clean_arabic_txt(TEXT)"
      ],
      "metadata": {
        "colab": {
          "base_uri": "https://localhost:8080/",
          "height": 35
        },
        "id": "OsR6bR5FPP01",
        "outputId": "68dd8e0e-cf27-4240-bffe-db3653aa0cac"
      },
      "execution_count": 25,
      "outputs": [
        {
          "output_type": "execute_result",
          "data": {
            "text/plain": [
              "'السلام عليكم ورحمة الله '"
            ],
            "application/vnd.google.colaboratory.intrinsic+json": {
              "type": "string"
            }
          },
          "metadata": {},
          "execution_count": 25
        }
      ]
    },
    {
      "cell_type": "code",
      "source": [
        "# Clean the text and add it in a new pandas column, this probably will take sometime\n",
        "df['articles_cln'] = df['Article'].apply(clean_arabic_txt)"
      ],
      "metadata": {
        "id": "DL6yrtLvfJRp"
      },
      "execution_count": 26,
      "outputs": []
    },
    {
      "cell_type": "code",
      "source": [
        "df.head()"
      ],
      "metadata": {
        "colab": {
          "base_uri": "https://localhost:8080/",
          "height": 206
        },
        "id": "6wP88dnGiEV3",
        "outputId": "607d85ab-98fb-4e2b-a0cd-302f1eef5099"
      },
      "execution_count": 27,
      "outputs": [
        {
          "output_type": "execute_result",
          "data": {
            "text/plain": [
              "                                             Article     class  \\\n",
              "0  سينطلق سائق مرسيدس أي إم جي الألماني نيكو روزب...    Sports   \n",
              "1  إعداد:محمد إبراهيم لا شك أن تاريخ الإمارات عام...  Religion   \n",
              "2  تقدم أكسيس كوميونكيشنز سلسلتين جديدين من المنت...      Tech   \n",
              "3  دبي \"الخليج\":تزامناً مع احتفالية العالم بيوم ا...   Medical   \n",
              "4  لا شك أن محبي نادي أي سي ميلان الإيطالي يتطلعو...    Sports   \n",
              "\n",
              "                                        articles_cln  \n",
              "0  سينطلق سائق مرسيدس أي إم جي الألماني نيكو روزب...  \n",
              "1  إعداد محمد إبراهيم لا شك أن تاريخ الإمارات عام...  \n",
              "2  تقدم أكسيس كوميونكيشنز سلسلتين جديدين من المنت...  \n",
              "3  دبي الخليج تزامنا مع احتفالية العالم بيوم المت...  \n",
              "4  لا شك أن محبي نادي أي سي ميلان الإيطالي يتطلعو...  "
            ],
            "text/html": [
              "\n",
              "  <div id=\"df-6f837101-f536-4885-acc6-330838261f07\">\n",
              "    <div class=\"colab-df-container\">\n",
              "      <div>\n",
              "<style scoped>\n",
              "    .dataframe tbody tr th:only-of-type {\n",
              "        vertical-align: middle;\n",
              "    }\n",
              "\n",
              "    .dataframe tbody tr th {\n",
              "        vertical-align: top;\n",
              "    }\n",
              "\n",
              "    .dataframe thead th {\n",
              "        text-align: right;\n",
              "    }\n",
              "</style>\n",
              "<table border=\"1\" class=\"dataframe\">\n",
              "  <thead>\n",
              "    <tr style=\"text-align: right;\">\n",
              "      <th></th>\n",
              "      <th>Article</th>\n",
              "      <th>class</th>\n",
              "      <th>articles_cln</th>\n",
              "    </tr>\n",
              "  </thead>\n",
              "  <tbody>\n",
              "    <tr>\n",
              "      <th>0</th>\n",
              "      <td>سينطلق سائق مرسيدس أي إم جي الألماني نيكو روزب...</td>\n",
              "      <td>Sports</td>\n",
              "      <td>سينطلق سائق مرسيدس أي إم جي الألماني نيكو روزب...</td>\n",
              "    </tr>\n",
              "    <tr>\n",
              "      <th>1</th>\n",
              "      <td>إعداد:محمد إبراهيم لا شك أن تاريخ الإمارات عام...</td>\n",
              "      <td>Religion</td>\n",
              "      <td>إعداد محمد إبراهيم لا شك أن تاريخ الإمارات عام...</td>\n",
              "    </tr>\n",
              "    <tr>\n",
              "      <th>2</th>\n",
              "      <td>تقدم أكسيس كوميونكيشنز سلسلتين جديدين من المنت...</td>\n",
              "      <td>Tech</td>\n",
              "      <td>تقدم أكسيس كوميونكيشنز سلسلتين جديدين من المنت...</td>\n",
              "    </tr>\n",
              "    <tr>\n",
              "      <th>3</th>\n",
              "      <td>دبي \"الخليج\":تزامناً مع احتفالية العالم بيوم ا...</td>\n",
              "      <td>Medical</td>\n",
              "      <td>دبي الخليج تزامنا مع احتفالية العالم بيوم المت...</td>\n",
              "    </tr>\n",
              "    <tr>\n",
              "      <th>4</th>\n",
              "      <td>لا شك أن محبي نادي أي سي ميلان الإيطالي يتطلعو...</td>\n",
              "      <td>Sports</td>\n",
              "      <td>لا شك أن محبي نادي أي سي ميلان الإيطالي يتطلعو...</td>\n",
              "    </tr>\n",
              "  </tbody>\n",
              "</table>\n",
              "</div>\n",
              "      <button class=\"colab-df-convert\" onclick=\"convertToInteractive('df-6f837101-f536-4885-acc6-330838261f07')\"\n",
              "              title=\"Convert this dataframe to an interactive table.\"\n",
              "              style=\"display:none;\">\n",
              "        \n",
              "  <svg xmlns=\"http://www.w3.org/2000/svg\" height=\"24px\"viewBox=\"0 0 24 24\"\n",
              "       width=\"24px\">\n",
              "    <path d=\"M0 0h24v24H0V0z\" fill=\"none\"/>\n",
              "    <path d=\"M18.56 5.44l.94 2.06.94-2.06 2.06-.94-2.06-.94-.94-2.06-.94 2.06-2.06.94zm-11 1L8.5 8.5l.94-2.06 2.06-.94-2.06-.94L8.5 2.5l-.94 2.06-2.06.94zm10 10l.94 2.06.94-2.06 2.06-.94-2.06-.94-.94-2.06-.94 2.06-2.06.94z\"/><path d=\"M17.41 7.96l-1.37-1.37c-.4-.4-.92-.59-1.43-.59-.52 0-1.04.2-1.43.59L10.3 9.45l-7.72 7.72c-.78.78-.78 2.05 0 2.83L4 21.41c.39.39.9.59 1.41.59.51 0 1.02-.2 1.41-.59l7.78-7.78 2.81-2.81c.8-.78.8-2.07 0-2.86zM5.41 20L4 18.59l7.72-7.72 1.47 1.35L5.41 20z\"/>\n",
              "  </svg>\n",
              "      </button>\n",
              "      \n",
              "  <style>\n",
              "    .colab-df-container {\n",
              "      display:flex;\n",
              "      flex-wrap:wrap;\n",
              "      gap: 12px;\n",
              "    }\n",
              "\n",
              "    .colab-df-convert {\n",
              "      background-color: #E8F0FE;\n",
              "      border: none;\n",
              "      border-radius: 50%;\n",
              "      cursor: pointer;\n",
              "      display: none;\n",
              "      fill: #1967D2;\n",
              "      height: 32px;\n",
              "      padding: 0 0 0 0;\n",
              "      width: 32px;\n",
              "    }\n",
              "\n",
              "    .colab-df-convert:hover {\n",
              "      background-color: #E2EBFA;\n",
              "      box-shadow: 0px 1px 2px rgba(60, 64, 67, 0.3), 0px 1px 3px 1px rgba(60, 64, 67, 0.15);\n",
              "      fill: #174EA6;\n",
              "    }\n",
              "\n",
              "    [theme=dark] .colab-df-convert {\n",
              "      background-color: #3B4455;\n",
              "      fill: #D2E3FC;\n",
              "    }\n",
              "\n",
              "    [theme=dark] .colab-df-convert:hover {\n",
              "      background-color: #434B5C;\n",
              "      box-shadow: 0px 1px 3px 1px rgba(0, 0, 0, 0.15);\n",
              "      filter: drop-shadow(0px 1px 2px rgba(0, 0, 0, 0.3));\n",
              "      fill: #FFFFFF;\n",
              "    }\n",
              "  </style>\n",
              "\n",
              "      <script>\n",
              "        const buttonEl =\n",
              "          document.querySelector('#df-6f837101-f536-4885-acc6-330838261f07 button.colab-df-convert');\n",
              "        buttonEl.style.display =\n",
              "          google.colab.kernel.accessAllowed ? 'block' : 'none';\n",
              "\n",
              "        async function convertToInteractive(key) {\n",
              "          const element = document.querySelector('#df-6f837101-f536-4885-acc6-330838261f07');\n",
              "          const dataTable =\n",
              "            await google.colab.kernel.invokeFunction('convertToInteractive',\n",
              "                                                     [key], {});\n",
              "          if (!dataTable) return;\n",
              "\n",
              "          const docLinkHtml = 'Like what you see? Visit the ' +\n",
              "            '<a target=\"_blank\" href=https://colab.research.google.com/notebooks/data_table.ipynb>data table notebook</a>'\n",
              "            + ' to learn more about interactive tables.';\n",
              "          element.innerHTML = '';\n",
              "          dataTable['output_type'] = 'display_data';\n",
              "          await google.colab.output.renderOutput(dataTable, element);\n",
              "          const docLink = document.createElement('div');\n",
              "          docLink.innerHTML = docLinkHtml;\n",
              "          element.appendChild(docLink);\n",
              "        }\n",
              "      </script>\n",
              "    </div>\n",
              "  </div>\n",
              "  "
            ]
          },
          "metadata": {},
          "execution_count": 27
        }
      ]
    },
    {
      "cell_type": "markdown",
      "source": [
        "## Load the model and the encoder"
      ],
      "metadata": {
        "id": "ltwY4w99sVxY"
      }
    },
    {
      "cell_type": "code",
      "source": [
        "svm_model = pickle.load(open('/content/svm_model.sav', 'rb'))"
      ],
      "metadata": {
        "id": "w8jqcI63sZ1w"
      },
      "execution_count": 28,
      "outputs": []
    },
    {
      "cell_type": "code",
      "source": [
        "label_encoder = pickle.load(open('/content/encoder.sav', 'rb'))"
      ],
      "metadata": {
        "id": "jsg-9yYCxYGf"
      },
      "execution_count": 29,
      "outputs": []
    },
    {
      "cell_type": "code",
      "source": [
        "df['class'] = label_encoder.transform(df['class'])"
      ],
      "metadata": {
        "id": "ifcC9KcosmuG"
      },
      "execution_count": 30,
      "outputs": []
    },
    {
      "cell_type": "code",
      "source": [
        "df.head()"
      ],
      "metadata": {
        "colab": {
          "base_uri": "https://localhost:8080/",
          "height": 206
        },
        "id": "j9TWZV7vx7P1",
        "outputId": "a3c0649a-6a04-4d7d-df15-91db555f3213"
      },
      "execution_count": 31,
      "outputs": [
        {
          "output_type": "execute_result",
          "data": {
            "text/plain": [
              "                                             Article  class  \\\n",
              "0  سينطلق سائق مرسيدس أي إم جي الألماني نيكو روزب...      5   \n",
              "1  إعداد:محمد إبراهيم لا شك أن تاريخ الإمارات عام...      4   \n",
              "2  تقدم أكسيس كوميونكيشنز سلسلتين جديدين من المنت...      6   \n",
              "3  دبي \"الخليج\":تزامناً مع احتفالية العالم بيوم ا...      2   \n",
              "4  لا شك أن محبي نادي أي سي ميلان الإيطالي يتطلعو...      5   \n",
              "\n",
              "                                        articles_cln  \n",
              "0  سينطلق سائق مرسيدس أي إم جي الألماني نيكو روزب...  \n",
              "1  إعداد محمد إبراهيم لا شك أن تاريخ الإمارات عام...  \n",
              "2  تقدم أكسيس كوميونكيشنز سلسلتين جديدين من المنت...  \n",
              "3  دبي الخليج تزامنا مع احتفالية العالم بيوم المت...  \n",
              "4  لا شك أن محبي نادي أي سي ميلان الإيطالي يتطلعو...  "
            ],
            "text/html": [
              "\n",
              "  <div id=\"df-c39715de-6b87-493f-8d20-31eb2678be10\">\n",
              "    <div class=\"colab-df-container\">\n",
              "      <div>\n",
              "<style scoped>\n",
              "    .dataframe tbody tr th:only-of-type {\n",
              "        vertical-align: middle;\n",
              "    }\n",
              "\n",
              "    .dataframe tbody tr th {\n",
              "        vertical-align: top;\n",
              "    }\n",
              "\n",
              "    .dataframe thead th {\n",
              "        text-align: right;\n",
              "    }\n",
              "</style>\n",
              "<table border=\"1\" class=\"dataframe\">\n",
              "  <thead>\n",
              "    <tr style=\"text-align: right;\">\n",
              "      <th></th>\n",
              "      <th>Article</th>\n",
              "      <th>class</th>\n",
              "      <th>articles_cln</th>\n",
              "    </tr>\n",
              "  </thead>\n",
              "  <tbody>\n",
              "    <tr>\n",
              "      <th>0</th>\n",
              "      <td>سينطلق سائق مرسيدس أي إم جي الألماني نيكو روزب...</td>\n",
              "      <td>5</td>\n",
              "      <td>سينطلق سائق مرسيدس أي إم جي الألماني نيكو روزب...</td>\n",
              "    </tr>\n",
              "    <tr>\n",
              "      <th>1</th>\n",
              "      <td>إعداد:محمد إبراهيم لا شك أن تاريخ الإمارات عام...</td>\n",
              "      <td>4</td>\n",
              "      <td>إعداد محمد إبراهيم لا شك أن تاريخ الإمارات عام...</td>\n",
              "    </tr>\n",
              "    <tr>\n",
              "      <th>2</th>\n",
              "      <td>تقدم أكسيس كوميونكيشنز سلسلتين جديدين من المنت...</td>\n",
              "      <td>6</td>\n",
              "      <td>تقدم أكسيس كوميونكيشنز سلسلتين جديدين من المنت...</td>\n",
              "    </tr>\n",
              "    <tr>\n",
              "      <th>3</th>\n",
              "      <td>دبي \"الخليج\":تزامناً مع احتفالية العالم بيوم ا...</td>\n",
              "      <td>2</td>\n",
              "      <td>دبي الخليج تزامنا مع احتفالية العالم بيوم المت...</td>\n",
              "    </tr>\n",
              "    <tr>\n",
              "      <th>4</th>\n",
              "      <td>لا شك أن محبي نادي أي سي ميلان الإيطالي يتطلعو...</td>\n",
              "      <td>5</td>\n",
              "      <td>لا شك أن محبي نادي أي سي ميلان الإيطالي يتطلعو...</td>\n",
              "    </tr>\n",
              "  </tbody>\n",
              "</table>\n",
              "</div>\n",
              "      <button class=\"colab-df-convert\" onclick=\"convertToInteractive('df-c39715de-6b87-493f-8d20-31eb2678be10')\"\n",
              "              title=\"Convert this dataframe to an interactive table.\"\n",
              "              style=\"display:none;\">\n",
              "        \n",
              "  <svg xmlns=\"http://www.w3.org/2000/svg\" height=\"24px\"viewBox=\"0 0 24 24\"\n",
              "       width=\"24px\">\n",
              "    <path d=\"M0 0h24v24H0V0z\" fill=\"none\"/>\n",
              "    <path d=\"M18.56 5.44l.94 2.06.94-2.06 2.06-.94-2.06-.94-.94-2.06-.94 2.06-2.06.94zm-11 1L8.5 8.5l.94-2.06 2.06-.94-2.06-.94L8.5 2.5l-.94 2.06-2.06.94zm10 10l.94 2.06.94-2.06 2.06-.94-2.06-.94-.94-2.06-.94 2.06-2.06.94z\"/><path d=\"M17.41 7.96l-1.37-1.37c-.4-.4-.92-.59-1.43-.59-.52 0-1.04.2-1.43.59L10.3 9.45l-7.72 7.72c-.78.78-.78 2.05 0 2.83L4 21.41c.39.39.9.59 1.41.59.51 0 1.02-.2 1.41-.59l7.78-7.78 2.81-2.81c.8-.78.8-2.07 0-2.86zM5.41 20L4 18.59l7.72-7.72 1.47 1.35L5.41 20z\"/>\n",
              "  </svg>\n",
              "      </button>\n",
              "      \n",
              "  <style>\n",
              "    .colab-df-container {\n",
              "      display:flex;\n",
              "      flex-wrap:wrap;\n",
              "      gap: 12px;\n",
              "    }\n",
              "\n",
              "    .colab-df-convert {\n",
              "      background-color: #E8F0FE;\n",
              "      border: none;\n",
              "      border-radius: 50%;\n",
              "      cursor: pointer;\n",
              "      display: none;\n",
              "      fill: #1967D2;\n",
              "      height: 32px;\n",
              "      padding: 0 0 0 0;\n",
              "      width: 32px;\n",
              "    }\n",
              "\n",
              "    .colab-df-convert:hover {\n",
              "      background-color: #E2EBFA;\n",
              "      box-shadow: 0px 1px 2px rgba(60, 64, 67, 0.3), 0px 1px 3px 1px rgba(60, 64, 67, 0.15);\n",
              "      fill: #174EA6;\n",
              "    }\n",
              "\n",
              "    [theme=dark] .colab-df-convert {\n",
              "      background-color: #3B4455;\n",
              "      fill: #D2E3FC;\n",
              "    }\n",
              "\n",
              "    [theme=dark] .colab-df-convert:hover {\n",
              "      background-color: #434B5C;\n",
              "      box-shadow: 0px 1px 3px 1px rgba(0, 0, 0, 0.15);\n",
              "      filter: drop-shadow(0px 1px 2px rgba(0, 0, 0, 0.3));\n",
              "      fill: #FFFFFF;\n",
              "    }\n",
              "  </style>\n",
              "\n",
              "      <script>\n",
              "        const buttonEl =\n",
              "          document.querySelector('#df-c39715de-6b87-493f-8d20-31eb2678be10 button.colab-df-convert');\n",
              "        buttonEl.style.display =\n",
              "          google.colab.kernel.accessAllowed ? 'block' : 'none';\n",
              "\n",
              "        async function convertToInteractive(key) {\n",
              "          const element = document.querySelector('#df-c39715de-6b87-493f-8d20-31eb2678be10');\n",
              "          const dataTable =\n",
              "            await google.colab.kernel.invokeFunction('convertToInteractive',\n",
              "                                                     [key], {});\n",
              "          if (!dataTable) return;\n",
              "\n",
              "          const docLinkHtml = 'Like what you see? Visit the ' +\n",
              "            '<a target=\"_blank\" href=https://colab.research.google.com/notebooks/data_table.ipynb>data table notebook</a>'\n",
              "            + ' to learn more about interactive tables.';\n",
              "          element.innerHTML = '';\n",
              "          dataTable['output_type'] = 'display_data';\n",
              "          await google.colab.output.renderOutput(dataTable, element);\n",
              "          const docLink = document.createElement('div');\n",
              "          docLink.innerHTML = docLinkHtml;\n",
              "          element.appendChild(docLink);\n",
              "        }\n",
              "      </script>\n",
              "    </div>\n",
              "  </div>\n",
              "  "
            ]
          },
          "metadata": {},
          "execution_count": 31
        }
      ]
    },
    {
      "cell_type": "markdown",
      "source": [
        "## Build the searcher\n"
      ],
      "metadata": {
        "id": "7V5Z7PpZo0DT"
      }
    },
    {
      "cell_type": "code",
      "source": [
        "# Shuffle the dataFrame to make sure we will sample many words as possible\n",
        "from sklearn.utils import shuffle\n",
        "df = shuffle(df)"
      ],
      "metadata": {
        "id": "HLTIdR9WzNR8"
      },
      "execution_count": 32,
      "outputs": []
    },
    {
      "cell_type": "code",
      "source": [
        "vectorizer = TfidfVectorizer()"
      ],
      "metadata": {
        "id": "99bKb7dlSYYp"
      },
      "execution_count": 33,
      "outputs": []
    },
    {
      "cell_type": "code",
      "source": [
        "def cos_sim(vec1, vec2):\n",
        "  sim = 1 - spatial.distance.cosine(list(vec1), list(vec2))\n",
        "  return sim"
      ],
      "metadata": {
        "id": "PBOKcy2iWgM1"
      },
      "execution_count": 34,
      "outputs": []
    },
    {
      "cell_type": "code",
      "source": [
        "def searcher(sentence):\n",
        "  articles = [] # Store the article\n",
        "  scores = []  # Store the score of the article to sort it later\n",
        "  class_pred = svm_model.predict([sentence])[0] # Predect which class the user is search in\n",
        "  # Filter the dataFrame depend on the predicted class only\n",
        "  filter = (df['class'] == class_pred)\n",
        "  df_filtrd = df[filter]\n",
        "\n",
        "  # Build the tf-idf features\n",
        "  docs_vec = vectorizer.fit_transform(df_filtrd['articles_cln'])\n",
        "  sentence_vec = vectorizer.transform([sentence]).toarray()\n",
        "\n",
        "  # Compare each vector with the sentence vector, and retrive the highest scores\n",
        "  for i, vec in enumerate(docs_vec):\n",
        "    score = cos_sim(vec.toarray(), sentence_vec)\n",
        "    scores.append(round(score, 2))\n",
        "    articles.append(df_filtrd.iloc[i]['articles_cln'])\n",
        "  \n",
        "  results_df = pd.DataFrame({'Articles': articles, 'Score': scores})\n",
        "  return results_df\n"
      ],
      "metadata": {
        "id": "gAYfdZzmSCFp"
      },
      "execution_count": 93,
      "outputs": []
    },
    {
      "cell_type": "markdown",
      "source": [
        "## Test the searcher"
      ],
      "metadata": {
        "id": "vpFq2zcIZr-q"
      }
    },
    {
      "cell_type": "code",
      "source": [
        "user_sentence = input(\"Enter the query: \")"
      ],
      "metadata": {
        "colab": {
          "base_uri": "https://localhost:8080/"
        },
        "id": "WVV38_1PZuX0",
        "outputId": "593a9a7d-7b8d-4cdb-ef73-b8795805ea1f"
      },
      "execution_count": 107,
      "outputs": [
        {
          "name": "stdout",
          "output_type": "stream",
          "text": [
            "Enter the query: الثورة السورية\n"
          ]
        }
      ]
    },
    {
      "cell_type": "code",
      "source": [
        "search_df = searcher(user_sentence)"
      ],
      "metadata": {
        "id": "a527Eu4FE37G"
      },
      "execution_count": 108,
      "outputs": []
    },
    {
      "cell_type": "code",
      "source": [
        "search_df.head()"
      ],
      "metadata": {
        "colab": {
          "base_uri": "https://localhost:8080/",
          "height": 206
        },
        "id": "SsEigsVglDHf",
        "outputId": "1223305f-530e-4329-88ef-94d6eece70c5"
      },
      "execution_count": 109,
      "outputs": [
        {
          "output_type": "execute_result",
          "data": {
            "text/plain": [
              "                                            Articles  Score\n",
              "0  أعلن الأمين العام لمنظمة التعاون الإسلامي أكمل...   0.04\n",
              "1  بحث ولي العهد السعودي ووزير الدفاع الأمير سلما...   0.00\n",
              "2  نفت مصادر أمنية مطلعة أمس ، أن تكون السلطات ال...   0.00\n",
              "3  تمكن الأمن المغربي ، أمس الثلاثاء ، من توقيف ع...   0.04\n",
              "4  نفى حزب النور ، الذراع السياسية للدعوة السلفية...   0.00"
            ],
            "text/html": [
              "\n",
              "  <div id=\"df-9d173fa1-e5d2-48d5-9233-4639b28d484a\">\n",
              "    <div class=\"colab-df-container\">\n",
              "      <div>\n",
              "<style scoped>\n",
              "    .dataframe tbody tr th:only-of-type {\n",
              "        vertical-align: middle;\n",
              "    }\n",
              "\n",
              "    .dataframe tbody tr th {\n",
              "        vertical-align: top;\n",
              "    }\n",
              "\n",
              "    .dataframe thead th {\n",
              "        text-align: right;\n",
              "    }\n",
              "</style>\n",
              "<table border=\"1\" class=\"dataframe\">\n",
              "  <thead>\n",
              "    <tr style=\"text-align: right;\">\n",
              "      <th></th>\n",
              "      <th>Articles</th>\n",
              "      <th>Score</th>\n",
              "    </tr>\n",
              "  </thead>\n",
              "  <tbody>\n",
              "    <tr>\n",
              "      <th>0</th>\n",
              "      <td>أعلن الأمين العام لمنظمة التعاون الإسلامي أكمل...</td>\n",
              "      <td>0.04</td>\n",
              "    </tr>\n",
              "    <tr>\n",
              "      <th>1</th>\n",
              "      <td>بحث ولي العهد السعودي ووزير الدفاع الأمير سلما...</td>\n",
              "      <td>0.00</td>\n",
              "    </tr>\n",
              "    <tr>\n",
              "      <th>2</th>\n",
              "      <td>نفت مصادر أمنية مطلعة أمس ، أن تكون السلطات ال...</td>\n",
              "      <td>0.00</td>\n",
              "    </tr>\n",
              "    <tr>\n",
              "      <th>3</th>\n",
              "      <td>تمكن الأمن المغربي ، أمس الثلاثاء ، من توقيف ع...</td>\n",
              "      <td>0.04</td>\n",
              "    </tr>\n",
              "    <tr>\n",
              "      <th>4</th>\n",
              "      <td>نفى حزب النور ، الذراع السياسية للدعوة السلفية...</td>\n",
              "      <td>0.00</td>\n",
              "    </tr>\n",
              "  </tbody>\n",
              "</table>\n",
              "</div>\n",
              "      <button class=\"colab-df-convert\" onclick=\"convertToInteractive('df-9d173fa1-e5d2-48d5-9233-4639b28d484a')\"\n",
              "              title=\"Convert this dataframe to an interactive table.\"\n",
              "              style=\"display:none;\">\n",
              "        \n",
              "  <svg xmlns=\"http://www.w3.org/2000/svg\" height=\"24px\"viewBox=\"0 0 24 24\"\n",
              "       width=\"24px\">\n",
              "    <path d=\"M0 0h24v24H0V0z\" fill=\"none\"/>\n",
              "    <path d=\"M18.56 5.44l.94 2.06.94-2.06 2.06-.94-2.06-.94-.94-2.06-.94 2.06-2.06.94zm-11 1L8.5 8.5l.94-2.06 2.06-.94-2.06-.94L8.5 2.5l-.94 2.06-2.06.94zm10 10l.94 2.06.94-2.06 2.06-.94-2.06-.94-.94-2.06-.94 2.06-2.06.94z\"/><path d=\"M17.41 7.96l-1.37-1.37c-.4-.4-.92-.59-1.43-.59-.52 0-1.04.2-1.43.59L10.3 9.45l-7.72 7.72c-.78.78-.78 2.05 0 2.83L4 21.41c.39.39.9.59 1.41.59.51 0 1.02-.2 1.41-.59l7.78-7.78 2.81-2.81c.8-.78.8-2.07 0-2.86zM5.41 20L4 18.59l7.72-7.72 1.47 1.35L5.41 20z\"/>\n",
              "  </svg>\n",
              "      </button>\n",
              "      \n",
              "  <style>\n",
              "    .colab-df-container {\n",
              "      display:flex;\n",
              "      flex-wrap:wrap;\n",
              "      gap: 12px;\n",
              "    }\n",
              "\n",
              "    .colab-df-convert {\n",
              "      background-color: #E8F0FE;\n",
              "      border: none;\n",
              "      border-radius: 50%;\n",
              "      cursor: pointer;\n",
              "      display: none;\n",
              "      fill: #1967D2;\n",
              "      height: 32px;\n",
              "      padding: 0 0 0 0;\n",
              "      width: 32px;\n",
              "    }\n",
              "\n",
              "    .colab-df-convert:hover {\n",
              "      background-color: #E2EBFA;\n",
              "      box-shadow: 0px 1px 2px rgba(60, 64, 67, 0.3), 0px 1px 3px 1px rgba(60, 64, 67, 0.15);\n",
              "      fill: #174EA6;\n",
              "    }\n",
              "\n",
              "    [theme=dark] .colab-df-convert {\n",
              "      background-color: #3B4455;\n",
              "      fill: #D2E3FC;\n",
              "    }\n",
              "\n",
              "    [theme=dark] .colab-df-convert:hover {\n",
              "      background-color: #434B5C;\n",
              "      box-shadow: 0px 1px 3px 1px rgba(0, 0, 0, 0.15);\n",
              "      filter: drop-shadow(0px 1px 2px rgba(0, 0, 0, 0.3));\n",
              "      fill: #FFFFFF;\n",
              "    }\n",
              "  </style>\n",
              "\n",
              "      <script>\n",
              "        const buttonEl =\n",
              "          document.querySelector('#df-9d173fa1-e5d2-48d5-9233-4639b28d484a button.colab-df-convert');\n",
              "        buttonEl.style.display =\n",
              "          google.colab.kernel.accessAllowed ? 'block' : 'none';\n",
              "\n",
              "        async function convertToInteractive(key) {\n",
              "          const element = document.querySelector('#df-9d173fa1-e5d2-48d5-9233-4639b28d484a');\n",
              "          const dataTable =\n",
              "            await google.colab.kernel.invokeFunction('convertToInteractive',\n",
              "                                                     [key], {});\n",
              "          if (!dataTable) return;\n",
              "\n",
              "          const docLinkHtml = 'Like what you see? Visit the ' +\n",
              "            '<a target=\"_blank\" href=https://colab.research.google.com/notebooks/data_table.ipynb>data table notebook</a>'\n",
              "            + ' to learn more about interactive tables.';\n",
              "          element.innerHTML = '';\n",
              "          dataTable['output_type'] = 'display_data';\n",
              "          await google.colab.output.renderOutput(dataTable, element);\n",
              "          const docLink = document.createElement('div');\n",
              "          docLink.innerHTML = docLinkHtml;\n",
              "          element.appendChild(docLink);\n",
              "        }\n",
              "      </script>\n",
              "    </div>\n",
              "  </div>\n",
              "  "
            ]
          },
          "metadata": {},
          "execution_count": 109
        }
      ]
    },
    {
      "cell_type": "code",
      "source": [
        "sorted_df = search_df.sort_values(by=['Score'], ascending=False)"
      ],
      "metadata": {
        "id": "MeMkwmNym6tO"
      },
      "execution_count": 110,
      "outputs": []
    },
    {
      "cell_type": "code",
      "source": [
        "sorted_df.head()"
      ],
      "metadata": {
        "colab": {
          "base_uri": "https://localhost:8080/",
          "height": 206
        },
        "id": "CZ6G7AFRkj9B",
        "outputId": "76cd517c-4c89-4107-9165-b030da19f3c6"
      },
      "execution_count": 111,
      "outputs": [
        {
          "output_type": "execute_result",
          "data": {
            "text/plain": [
              "                                               Articles  Score\n",
              "2667  بدأت قوى المعارضة السورية أمس ، اجتماعاتها في ...   0.21\n",
              "6236  أصدر المرشد الأعلى للجمهورية الإسلامية في إيرا...   0.20\n",
              "4977  شكل معارضون سوريون مجلسا وطنيا لمواجهة نظام دم...   0.18\n",
              "4777  اعتقلت السلطات السورية ، أمس ، اثنين من أعضاء ...   0.18\n",
              "2213  أقدم شاب يمني مساء أول أمس ، على إشعال النار ف...   0.18"
            ],
            "text/html": [
              "\n",
              "  <div id=\"df-45308611-3eb3-471d-8515-86c2ce50a174\">\n",
              "    <div class=\"colab-df-container\">\n",
              "      <div>\n",
              "<style scoped>\n",
              "    .dataframe tbody tr th:only-of-type {\n",
              "        vertical-align: middle;\n",
              "    }\n",
              "\n",
              "    .dataframe tbody tr th {\n",
              "        vertical-align: top;\n",
              "    }\n",
              "\n",
              "    .dataframe thead th {\n",
              "        text-align: right;\n",
              "    }\n",
              "</style>\n",
              "<table border=\"1\" class=\"dataframe\">\n",
              "  <thead>\n",
              "    <tr style=\"text-align: right;\">\n",
              "      <th></th>\n",
              "      <th>Articles</th>\n",
              "      <th>Score</th>\n",
              "    </tr>\n",
              "  </thead>\n",
              "  <tbody>\n",
              "    <tr>\n",
              "      <th>2667</th>\n",
              "      <td>بدأت قوى المعارضة السورية أمس ، اجتماعاتها في ...</td>\n",
              "      <td>0.21</td>\n",
              "    </tr>\n",
              "    <tr>\n",
              "      <th>6236</th>\n",
              "      <td>أصدر المرشد الأعلى للجمهورية الإسلامية في إيرا...</td>\n",
              "      <td>0.20</td>\n",
              "    </tr>\n",
              "    <tr>\n",
              "      <th>4977</th>\n",
              "      <td>شكل معارضون سوريون مجلسا وطنيا لمواجهة نظام دم...</td>\n",
              "      <td>0.18</td>\n",
              "    </tr>\n",
              "    <tr>\n",
              "      <th>4777</th>\n",
              "      <td>اعتقلت السلطات السورية ، أمس ، اثنين من أعضاء ...</td>\n",
              "      <td>0.18</td>\n",
              "    </tr>\n",
              "    <tr>\n",
              "      <th>2213</th>\n",
              "      <td>أقدم شاب يمني مساء أول أمس ، على إشعال النار ف...</td>\n",
              "      <td>0.18</td>\n",
              "    </tr>\n",
              "  </tbody>\n",
              "</table>\n",
              "</div>\n",
              "      <button class=\"colab-df-convert\" onclick=\"convertToInteractive('df-45308611-3eb3-471d-8515-86c2ce50a174')\"\n",
              "              title=\"Convert this dataframe to an interactive table.\"\n",
              "              style=\"display:none;\">\n",
              "        \n",
              "  <svg xmlns=\"http://www.w3.org/2000/svg\" height=\"24px\"viewBox=\"0 0 24 24\"\n",
              "       width=\"24px\">\n",
              "    <path d=\"M0 0h24v24H0V0z\" fill=\"none\"/>\n",
              "    <path d=\"M18.56 5.44l.94 2.06.94-2.06 2.06-.94-2.06-.94-.94-2.06-.94 2.06-2.06.94zm-11 1L8.5 8.5l.94-2.06 2.06-.94-2.06-.94L8.5 2.5l-.94 2.06-2.06.94zm10 10l.94 2.06.94-2.06 2.06-.94-2.06-.94-.94-2.06-.94 2.06-2.06.94z\"/><path d=\"M17.41 7.96l-1.37-1.37c-.4-.4-.92-.59-1.43-.59-.52 0-1.04.2-1.43.59L10.3 9.45l-7.72 7.72c-.78.78-.78 2.05 0 2.83L4 21.41c.39.39.9.59 1.41.59.51 0 1.02-.2 1.41-.59l7.78-7.78 2.81-2.81c.8-.78.8-2.07 0-2.86zM5.41 20L4 18.59l7.72-7.72 1.47 1.35L5.41 20z\"/>\n",
              "  </svg>\n",
              "      </button>\n",
              "      \n",
              "  <style>\n",
              "    .colab-df-container {\n",
              "      display:flex;\n",
              "      flex-wrap:wrap;\n",
              "      gap: 12px;\n",
              "    }\n",
              "\n",
              "    .colab-df-convert {\n",
              "      background-color: #E8F0FE;\n",
              "      border: none;\n",
              "      border-radius: 50%;\n",
              "      cursor: pointer;\n",
              "      display: none;\n",
              "      fill: #1967D2;\n",
              "      height: 32px;\n",
              "      padding: 0 0 0 0;\n",
              "      width: 32px;\n",
              "    }\n",
              "\n",
              "    .colab-df-convert:hover {\n",
              "      background-color: #E2EBFA;\n",
              "      box-shadow: 0px 1px 2px rgba(60, 64, 67, 0.3), 0px 1px 3px 1px rgba(60, 64, 67, 0.15);\n",
              "      fill: #174EA6;\n",
              "    }\n",
              "\n",
              "    [theme=dark] .colab-df-convert {\n",
              "      background-color: #3B4455;\n",
              "      fill: #D2E3FC;\n",
              "    }\n",
              "\n",
              "    [theme=dark] .colab-df-convert:hover {\n",
              "      background-color: #434B5C;\n",
              "      box-shadow: 0px 1px 3px 1px rgba(0, 0, 0, 0.15);\n",
              "      filter: drop-shadow(0px 1px 2px rgba(0, 0, 0, 0.3));\n",
              "      fill: #FFFFFF;\n",
              "    }\n",
              "  </style>\n",
              "\n",
              "      <script>\n",
              "        const buttonEl =\n",
              "          document.querySelector('#df-45308611-3eb3-471d-8515-86c2ce50a174 button.colab-df-convert');\n",
              "        buttonEl.style.display =\n",
              "          google.colab.kernel.accessAllowed ? 'block' : 'none';\n",
              "\n",
              "        async function convertToInteractive(key) {\n",
              "          const element = document.querySelector('#df-45308611-3eb3-471d-8515-86c2ce50a174');\n",
              "          const dataTable =\n",
              "            await google.colab.kernel.invokeFunction('convertToInteractive',\n",
              "                                                     [key], {});\n",
              "          if (!dataTable) return;\n",
              "\n",
              "          const docLinkHtml = 'Like what you see? Visit the ' +\n",
              "            '<a target=\"_blank\" href=https://colab.research.google.com/notebooks/data_table.ipynb>data table notebook</a>'\n",
              "            + ' to learn more about interactive tables.';\n",
              "          element.innerHTML = '';\n",
              "          dataTable['output_type'] = 'display_data';\n",
              "          await google.colab.output.renderOutput(dataTable, element);\n",
              "          const docLink = document.createElement('div');\n",
              "          docLink.innerHTML = docLinkHtml;\n",
              "          element.appendChild(docLink);\n",
              "        }\n",
              "      </script>\n",
              "    </div>\n",
              "  </div>\n",
              "  "
            ]
          },
          "metadata": {},
          "execution_count": 111
        }
      ]
    },
    {
      "cell_type": "markdown",
      "source": [
        "## Display the articles"
      ],
      "metadata": {
        "id": "4y9Dc7ipnv7W"
      }
    },
    {
      "cell_type": "code",
      "source": [
        "from IPython.display import Markdown, display\n",
        "for i in range(5):\n",
        "    display(Markdown('> '+sorted_df['Articles'][i]))\n",
        "    print('--------------------------------------')"
      ],
      "metadata": {
        "colab": {
          "base_uri": "https://localhost:8080/",
          "height": 834
        },
        "id": "FcJXsxPxnvO-",
        "outputId": "a6fd74dc-b2b3-4e8f-b24a-db6fdaa66f20"
      },
      "execution_count": 112,
      "outputs": [
        {
          "output_type": "display_data",
          "data": {
            "text/plain": [
              "<IPython.core.display.Markdown object>"
            ],
            "text/markdown": "> أعلن الأمين العام لمنظمة التعاون الإسلامي أكمل الدين إحسان أوغلي ، رفض منظمته التدخل العسكري الأجنبي في الأزمة السورية ، وحذر من دفع الأمور نحو حرب أهلية وقال على هامش مشاركته في أعمال مؤتمر أصدقاء سوريا في تونس ، إن ما يقوم به النظام السوري من أعمال عنف هو أمر مرفوض ، لكن لا يعني ذلك تشريع التدخل العسكري الأجنبي وأضاف أنه يتعين على المعارضة توحيد صفوفها ومواقفها حتى يتسنى لها المضي قدما في التحول الديمقراطي وشدد إحسان أوغلي على أن منظمة التعاون الإسلامي ترى أن هناك ثلاث قضايا أساسية يجب ألا تحدث أبدا في سوريا ، التدخل العسكري الخارجي ، باعتبار أن لدينا من التجارب ما يكفي لرفض هذا الأمر وأضاف أن القضية الثانية ألا يتحول الصراع الداخلي إلى حرب أهلية أما القضية الثالثة فهي تخص العمل من أجل ألا يتحول الصراع إلى حرب باردة بين توازنات القوى الدولية يو بي آي"
          },
          "metadata": {}
        },
        {
          "output_type": "stream",
          "name": "stdout",
          "text": [
            "--------------------------------------\n"
          ]
        },
        {
          "output_type": "display_data",
          "data": {
            "text/plain": [
              "<IPython.core.display.Markdown object>"
            ],
            "text/markdown": "> بحث ولي العهد السعودي ووزير الدفاع الأمير سلمان بن عبدالعزيز مع وزير الدفاع البريطاني فيليب هاموند الذي يزور المملكة حاليا التعاون العسكري بين البلدين وبحث الجانبان خلال اللقاء آفاق التعاون بين البلدين الصديقين وسبل دعمها وتطويرها ، إضافة إلى استعراض آخر المستجدات على الساحتين الإقليمية والدولية وأكدت وكالة واس أن الأمير سلمان رحب في بداية الاستقبال بالوزير الضيف ، متمنيا له ومرافقيه طيب الإقامة في المملكة وعبر وزير الدفاع البريطاني من جهته عن سعادته بزيارة المملكة ولقائه بنائب خادم الحرمين الشريفين الأمير سلمان بن عبدالعزيز د ب أ"
          },
          "metadata": {}
        },
        {
          "output_type": "stream",
          "name": "stdout",
          "text": [
            "--------------------------------------\n"
          ]
        },
        {
          "output_type": "display_data",
          "data": {
            "text/plain": [
              "<IPython.core.display.Markdown object>"
            ],
            "text/markdown": "> نفت مصادر أمنية مطلعة أمس ، أن تكون السلطات اليمنية وافقت على استحداث قسم أمني في مقر السفارة الأمريكية بصنعاء ، لتنسيق عمليات عسكرية أمريكية مباشرة مع القوات اليمنية المكلفة مكافحة تنظيم القاعدة وأشارت المصادر إلى أن المكتب الأمني الذي تم استحداثه داخل مقر السفارة سيضطلع بمهام تنضوي في إطار التعاون الأمني في مجال مكافحة المخدرات ، وليس من اختصاصه ممارسة أي أنشطة تتعلق بالتعاون القائم بين البلدين في مكافحة تنظيم القاعدة وأكد السفير الأمريكي الجديد بصنعاء جيرالد فيرستاين في أول مؤتمر صحافي يعقده في البلاد أن المكتب الأمني الملحق حديثا بمقر السفارة الأمريكية بصنعاء سيسهم في دعم قدرات الأجهزة الأمنية اليمنية ، من دون الكشف عن طبيعة الدعم الذي سيضطلع بتقديمه وأعلن فيرستاين التزام بلاده بدعم الحكومة اليمنية وشعبها للتغلب على تنظيم القاعدة في شبه الجزيرة العربية وتأمين الحدود اليمنية ومواصلة تدريب قوات مكافحة الإرهاب اليمنية ، وتوفير المعدات اللازمة لها ، للتخلص من التهديدات المباشرة التي تشكلها القاعدة ، وعارض أي حوار مع قادة القاعدة الكبار ، لكنه قال إن حكومته لا تمانع في إجراء حوار مع الأعضاء الجدد بما يمكن من مساعدتهم على التخلص من أفكار التطرف والعنف ، وأكد أن بلاده ستقوم بكل ما تراه مناسبا لمواجهة القاعدة في اليمن وأعلن السفير الأمريكي دعم حكومته لحوار وطني بين السلطة والمعارضة ، وإجراء انتخابات نيابية حرة وشفافة في وقتها المناسب ، وقال نشجع المعارضة والسلطة على الالتزام بالحوار إلى أن يصل إلى نتيجة ناجحة على صعيد آخر ، ألغى عدد من البعثات الدولية التابعة لمنظمات غير حكومية دولية مانحة ، زيارات عمل رسمية لليمن عقب محاولة تنظيم القاعدة استهداف من موظفي السفارة البريطانية ، ومصرع خبير فرنسي يعمل في إحدى شركات التنقيب عن الغاز وعلقت شركة الطيران الألمانية لوفتهانزا رحلاتها إلى المطارات اليمنية حتى إشعار آخر عقب حوادث استهداف الأجانب الأخيرة في اليمن لأسباب وصفتها الشركة بالأمنية المؤقتة في غضون ذلك ، شهدت محاكمة صالح عبدالحبيب الشاووش أحد أخطر عناصر تنظيم القاعدة مشادة كلامية بينه وبين قاضي المحكمة ، إثر طلب الأول النطق بالحكم سريعا وعدم تأجيله ورفضه السماح لمحاميه بتقديم المرافعة الختامية وطالب الشاووش الذي تصنفه السلطات الأمنية اليمنية بأنه من أخطر عناصر القاعدة في اليمن ، قاضي المحكمة الجزائية الابتدائية المتخصصة في قضايا أمن الدولة محسن علوان ، بسرعة النطق في الحكم وعدم إرجائه إلى جلسة أخرى ، فرد القاضي بطلبه من المتهم التزام الهدوء ، مبررا إرجاء النطق بالحكم بوجود إجراءات قانونية يجب على المحكمة التقيد بها ، ما أثار حفيظة المتهم الذي صرخ في القاضي بنبرة حادة مكررا طلبه بالنطق بالحكم قبيل أن يوجه خطابه إلى القاعة ، مستعرضا العمليات الإرهابية التي نفذها واعترف المتهم بصوت مرتفع باشتراكه في تنفيذ سبع هجمات إرهابية استهدفت في معظمها مواقع ومنشآت أمنية وعسكرية في محافظتي حضرموت ومأرب ، واستهداف مصافي النفط بصافر ، وتفجير أنبوب نفط في وادي ساه ، والهجوم على نقاط أمنية ومحاولة اغتيال مدير الأمن السياسي بحضرموت عبدالله الجريزع ، وتجهيز سيارات مفخخة وعبوات ناسفة وجددت النيابة العامة اتهاماتها للمتهم الشاوش بارتكاب جرائم إرهابية باستخدام دراجات نارية واستهداف شخصيات أمنية وعسكرية ومصالح أجنبية في عدد من المدن الرئيسة ، مطالبة بتوقيع أقصى عقوبة يحددها القانون الجزائي واستعرض ممثل النيابة العامة بعض أدلة الإثبات التي اشتملت على ذاكرة محمولة تتضمن مجلدا تحوي آلاف ملف عن صناعة المتفجرات والأسلحة والأحزمة والعبوات الناسفة وندوات عن الجهاد ، وحددت المحكمة الاثنين المقبل موعدا للنطق بالحكم وعقدت المحكمة الجزائية المتخصصة في شؤون الإرهاب في حضرموت شرق أولى جلسات محاكمة يمنيا متهمين بالانتماء إلى القاعدة والتخطيط لاستهداف منشآت عامة وخاصة ونفى المتهمون التهم المنسوبة إليهم ، غير أن بعضهم أقر بتنقلات وسفر بين العراق وأفغانستان وقرر القاضي تأجيل المحاكمة أسبوعين ووقعت اشتباكات بين قوات الأمن بمحافظة شبوة جنوب شرق ومسلحين ، أسفرت عن مصرع مدني وإصابة جنديين ، في منطقة بير علي قرب ميناء بلحاف لتصدير الغاز المسال بمديرية رضوم الساحلية وأكدت مصادر مطلعة أن مدنيا يدعى ناصر باخرخور قتل في الاشتباكات ، وأصيب جنديان تم إسعافهما في مدينة المكلا بمحافظة حضرموت لتلقي العلاج"
          },
          "metadata": {}
        },
        {
          "output_type": "stream",
          "name": "stdout",
          "text": [
            "--------------------------------------\n"
          ]
        },
        {
          "output_type": "display_data",
          "data": {
            "text/plain": [
              "<IPython.core.display.Markdown object>"
            ],
            "text/markdown": "> تمكن الأمن المغربي ، أمس الثلاثاء ، من توقيف عنصرين مواليين لتنظيم داعش الإرهابي وصف أحدهما ب الخطر وينشط في مدينة بركان ، شرقي المملكة ، في إطار التحريات الاستباقية لمواجهة التهديدات الإرهابية ، بينما اتهم مستشارون برلمانيون الحكومة المغربية ب الفشل وعدم توفر الإرادة السياسية لديها للقيام بالإصلاحات وأفاد بلاغ لوزارة الداخلية ، أمس ، بأن التحريات كشفت أن أحد العنصرين بايع الأمير المزعوم لهذا التنظيم الإرهابي ، كان في طور الإعداد لتنفيذ عمليات إرهابية نوعية في المملكة ، بتنسيق مع قادة ميدانيين للتنظم في الساحة السورية والعراقية أما الموقوف الثاني فهو شاب في التاسعة عشرة كان يدرس في مراكش ، وتم توقيفه للاشتباه في تورطه في توزيع منشورات تتضمن دعاية للتنظيم ، وتدوين كتابات حائطية تشيد وتمجد العمليات الإرهابية التي يرتكبها هذا التنظيم وكالات"
          },
          "metadata": {}
        },
        {
          "output_type": "stream",
          "name": "stdout",
          "text": [
            "--------------------------------------\n"
          ]
        },
        {
          "output_type": "display_data",
          "data": {
            "text/plain": [
              "<IPython.core.display.Markdown object>"
            ],
            "text/markdown": "> نفى حزب النور ، الذراع السياسية للدعوة السلفية بمصر ، وجود أي علاقة تربطه بنظيره الفلسطيني ، سواء كانت تنظيمية أو منهجية وقال المتحدث الرسمي باسم الحزب يسري حماد ، أمس ، إن حزبه ليست له أية علاقة بتنظيمات عربية أو دولية فهو كيان مستقل لا يتبع أي تشكيلات خارج مصر ، وأنه لم يسع إلى إحداث أي تحالفات ، حتى وإن حقق نجاحات كبيرة في الداخل"
          },
          "metadata": {}
        },
        {
          "output_type": "stream",
          "name": "stdout",
          "text": [
            "--------------------------------------\n"
          ]
        }
      ]
    },
    {
      "cell_type": "code",
      "source": [],
      "metadata": {
        "id": "0RM9EaYVn3Zd"
      },
      "execution_count": null,
      "outputs": []
    }
  ]
}
