{
  "nbformat": 4,
  "nbformat_minor": 0,
  "metadata": {
    "colab": {
      "provenance": [],
      "collapsed_sections": []
    },
    "kernelspec": {
      "name": "python3",
      "display_name": "Python 3"
    },
    "language_info": {
      "name": "python"
    }
  },
  "cells": [
    {
      "cell_type": "markdown",
      "source": [
        "<img src='https://usaupload.com/cache/plugins/filepreviewer/607201/492cca2d6d223cca70571698bc3065e7b991a63d0c71e32af19a486a11d2cc42/1100x800_cropped.jpg'>"
      ],
      "metadata": {
        "id": "FQhcy65yO0sD"
      }
    },
    {
      "cell_type": "markdown",
      "source": [
        "## Import tools"
      ],
      "metadata": {
        "id": "OTXh1WVnNqg2"
      }
    },
    {
      "cell_type": "code",
      "source": [
        "!pip install opendatasets"
      ],
      "metadata": {
        "id": "m9g6pSN5OFPu"
      },
      "execution_count": null,
      "outputs": []
    },
    {
      "cell_type": "code",
      "source": [
        "import numpy as np\n",
        "import pandas as pd \n",
        "import tensorflow as tf\n",
        "import nltk\n",
        "from nltk.tokenize import word_tokenize\n",
        "from nltk.corpus import stopwords\n",
        "import re\n",
        "import string\n",
        "from string import digits\n",
        "from sklearn.model_selection import train_test_split\n",
        "from sklearn.pipeline import Pipeline\n",
        "from sklearn.preprocessing import LabelEncoder\n",
        "from sklearn.feature_extraction.text import TfidfVectorizer\n",
        "from sklearn.naive_bayes import MultinomialNB\n",
        "from sklearn.svm import LinearSVC\n",
        "from sklearn.metrics import classification_report\n",
        "from scipy import spatial\n",
        "import matplotlib.pyplot as plt\n",
        "import seaborn as sns\n",
        "sns.set()\n",
        "import os\n",
        "import opendatasets as od"
      ],
      "metadata": {
        "id": "EqX_uAHrNxUO"
      },
      "execution_count": 2,
      "outputs": []
    },
    {
      "cell_type": "markdown",
      "source": [
        "## Download the dataset\n",
        "[Click here to learn how to download dataset via API](https://www.geeksforgeeks.org/how-to-import-kaggle-datasets-directly-into-google-colab/#:~:text=Method%202%3A%20By%20easily%20downloading,folder%20to%20Google%20Colab%20Notebook.)"
      ],
      "metadata": {
        "id": "9hn_QfGDNjmm"
      }
    },
    {
      "cell_type": "code",
      "execution_count": null,
      "metadata": {
        "id": "a01NgXs6Ksm9"
      },
      "outputs": [],
      "source": [
        "od.download(\"https://www.kaggle.com/datasets/haithemhermessi/sanad-dataset\")"
      ]
    },
    {
      "cell_type": "markdown",
      "source": [
        "## Load the data from directory"
      ],
      "metadata": {
        "id": "Al4eT8zDRGSn"
      }
    },
    {
      "cell_type": "code",
      "source": [
        "classes = os.listdir('/content/sanad-dataset') "
      ],
      "metadata": {
        "id": "Hp854KjxR6x3"
      },
      "execution_count": 3,
      "outputs": []
    },
    {
      "cell_type": "code",
      "source": [
        "classes"
      ],
      "metadata": {
        "colab": {
          "base_uri": "https://localhost:8080/"
        },
        "id": "wSy4JtcnR_im",
        "outputId": "20a12157-f481-4f34-fdbd-74bd3e75a136"
      },
      "execution_count": 4,
      "outputs": [
        {
          "output_type": "execute_result",
          "data": {
            "text/plain": [
              "['Finance', 'Sports', 'Medical', 'Tech', 'Culture', 'Politics', 'Religion']"
            ]
          },
          "metadata": {},
          "execution_count": 4
        }
      ]
    },
    {
      "cell_type": "code",
      "source": [
        "def load_data():\n",
        "  return tf.keras.utils.text_dataset_from_directory(\n",
        "    '/content/sanad-dataset',\n",
        "    labels='inferred',\n",
        "    label_mode='int',\n",
        "    class_names=None,\n",
        "    max_length=None,\n",
        "    shuffle=True)"
      ],
      "metadata": {
        "id": "QM4l277mQnTG"
      },
      "execution_count": 5,
      "outputs": []
    },
    {
      "cell_type": "code",
      "source": [
        "dataset = load_data()"
      ],
      "metadata": {
        "colab": {
          "base_uri": "https://localhost:8080/"
        },
        "id": "QjYaIgDXR3b1",
        "outputId": "a035a104-0c02-43f3-8abb-d564d0c47bad"
      },
      "execution_count": 6,
      "outputs": [
        {
          "output_type": "stream",
          "name": "stdout",
          "text": [
            "Found 45500 files belonging to 7 classes.\n"
          ]
        }
      ]
    },
    {
      "cell_type": "markdown",
      "source": [
        "## Turn the dataset into DataFrame"
      ],
      "metadata": {
        "id": "WSy4vGcKSI5f"
      }
    },
    {
      "cell_type": "code",
      "source": [
        "x=[]\n",
        "y=[]\n",
        "for text_batch, label_batch in dataset:\n",
        "    for i in range(len(text_batch)):\n",
        "        s=text_batch.numpy()[i].decode(\"utf-8\") \n",
        "        x.append(s)\n",
        "        y.append(dataset.class_names[label_batch.numpy()[i]])\n",
        "print(len(x))\n",
        "print(len(y))"
      ],
      "metadata": {
        "colab": {
          "base_uri": "https://localhost:8080/"
        },
        "id": "1l5VGXgzSFD8",
        "outputId": "045cfbf3-ad08-4806-c5cc-eb9eeb9570cc"
      },
      "execution_count": 105,
      "outputs": [
        {
          "output_type": "stream",
          "name": "stdout",
          "text": [
            "45500\n",
            "45500\n"
          ]
        }
      ]
    },
    {
      "cell_type": "code",
      "source": [
        "df = pd.DataFrame({'Article': x, 'class':y})"
      ],
      "metadata": {
        "id": "5bMSjvrpSf-0"
      },
      "execution_count": 106,
      "outputs": []
    },
    {
      "cell_type": "code",
      "source": [
        "df.head()"
      ],
      "metadata": {
        "colab": {
          "base_uri": "https://localhost:8080/",
          "height": 206
        },
        "id": "GcVW06RQS8kL",
        "outputId": "638b9759-8623-49be-a861-b4e07606eb97"
      },
      "execution_count": 107,
      "outputs": [
        {
          "output_type": "execute_result",
          "data": {
            "text/plain": [
              "                                             Article    class\n",
              "0  الشارقة - عصام همام:انطلقت صباح أمس فعاليات ال...  Medical\n",
              "1  تنطلق مساء اليوم من مسرح شاطئ الراحة بأبوظبي، ...  Culture\n",
              "2  في إطار حرصها الدائم لتمكين عملائها من التواصل...     Tech\n",
              "3  أعلنت وزارة الثقافة والشباب وتنمية المجتمع، عن...  Culture\n",
              "4  دبي إيمان عبدالله: أكدت الدكتورة نجاة محمد راش...  Medical"
            ],
            "text/html": [
              "\n",
              "  <div id=\"df-2bbd0074-b222-4c30-b880-94674663afcf\">\n",
              "    <div class=\"colab-df-container\">\n",
              "      <div>\n",
              "<style scoped>\n",
              "    .dataframe tbody tr th:only-of-type {\n",
              "        vertical-align: middle;\n",
              "    }\n",
              "\n",
              "    .dataframe tbody tr th {\n",
              "        vertical-align: top;\n",
              "    }\n",
              "\n",
              "    .dataframe thead th {\n",
              "        text-align: right;\n",
              "    }\n",
              "</style>\n",
              "<table border=\"1\" class=\"dataframe\">\n",
              "  <thead>\n",
              "    <tr style=\"text-align: right;\">\n",
              "      <th></th>\n",
              "      <th>Article</th>\n",
              "      <th>class</th>\n",
              "    </tr>\n",
              "  </thead>\n",
              "  <tbody>\n",
              "    <tr>\n",
              "      <th>0</th>\n",
              "      <td>الشارقة - عصام همام:انطلقت صباح أمس فعاليات ال...</td>\n",
              "      <td>Medical</td>\n",
              "    </tr>\n",
              "    <tr>\n",
              "      <th>1</th>\n",
              "      <td>تنطلق مساء اليوم من مسرح شاطئ الراحة بأبوظبي، ...</td>\n",
              "      <td>Culture</td>\n",
              "    </tr>\n",
              "    <tr>\n",
              "      <th>2</th>\n",
              "      <td>في إطار حرصها الدائم لتمكين عملائها من التواصل...</td>\n",
              "      <td>Tech</td>\n",
              "    </tr>\n",
              "    <tr>\n",
              "      <th>3</th>\n",
              "      <td>أعلنت وزارة الثقافة والشباب وتنمية المجتمع، عن...</td>\n",
              "      <td>Culture</td>\n",
              "    </tr>\n",
              "    <tr>\n",
              "      <th>4</th>\n",
              "      <td>دبي إيمان عبدالله: أكدت الدكتورة نجاة محمد راش...</td>\n",
              "      <td>Medical</td>\n",
              "    </tr>\n",
              "  </tbody>\n",
              "</table>\n",
              "</div>\n",
              "      <button class=\"colab-df-convert\" onclick=\"convertToInteractive('df-2bbd0074-b222-4c30-b880-94674663afcf')\"\n",
              "              title=\"Convert this dataframe to an interactive table.\"\n",
              "              style=\"display:none;\">\n",
              "        \n",
              "  <svg xmlns=\"http://www.w3.org/2000/svg\" height=\"24px\"viewBox=\"0 0 24 24\"\n",
              "       width=\"24px\">\n",
              "    <path d=\"M0 0h24v24H0V0z\" fill=\"none\"/>\n",
              "    <path d=\"M18.56 5.44l.94 2.06.94-2.06 2.06-.94-2.06-.94-.94-2.06-.94 2.06-2.06.94zm-11 1L8.5 8.5l.94-2.06 2.06-.94-2.06-.94L8.5 2.5l-.94 2.06-2.06.94zm10 10l.94 2.06.94-2.06 2.06-.94-2.06-.94-.94-2.06-.94 2.06-2.06.94z\"/><path d=\"M17.41 7.96l-1.37-1.37c-.4-.4-.92-.59-1.43-.59-.52 0-1.04.2-1.43.59L10.3 9.45l-7.72 7.72c-.78.78-.78 2.05 0 2.83L4 21.41c.39.39.9.59 1.41.59.51 0 1.02-.2 1.41-.59l7.78-7.78 2.81-2.81c.8-.78.8-2.07 0-2.86zM5.41 20L4 18.59l7.72-7.72 1.47 1.35L5.41 20z\"/>\n",
              "  </svg>\n",
              "      </button>\n",
              "      \n",
              "  <style>\n",
              "    .colab-df-container {\n",
              "      display:flex;\n",
              "      flex-wrap:wrap;\n",
              "      gap: 12px;\n",
              "    }\n",
              "\n",
              "    .colab-df-convert {\n",
              "      background-color: #E8F0FE;\n",
              "      border: none;\n",
              "      border-radius: 50%;\n",
              "      cursor: pointer;\n",
              "      display: none;\n",
              "      fill: #1967D2;\n",
              "      height: 32px;\n",
              "      padding: 0 0 0 0;\n",
              "      width: 32px;\n",
              "    }\n",
              "\n",
              "    .colab-df-convert:hover {\n",
              "      background-color: #E2EBFA;\n",
              "      box-shadow: 0px 1px 2px rgba(60, 64, 67, 0.3), 0px 1px 3px 1px rgba(60, 64, 67, 0.15);\n",
              "      fill: #174EA6;\n",
              "    }\n",
              "\n",
              "    [theme=dark] .colab-df-convert {\n",
              "      background-color: #3B4455;\n",
              "      fill: #D2E3FC;\n",
              "    }\n",
              "\n",
              "    [theme=dark] .colab-df-convert:hover {\n",
              "      background-color: #434B5C;\n",
              "      box-shadow: 0px 1px 3px 1px rgba(0, 0, 0, 0.15);\n",
              "      filter: drop-shadow(0px 1px 2px rgba(0, 0, 0, 0.3));\n",
              "      fill: #FFFFFF;\n",
              "    }\n",
              "  </style>\n",
              "\n",
              "      <script>\n",
              "        const buttonEl =\n",
              "          document.querySelector('#df-2bbd0074-b222-4c30-b880-94674663afcf button.colab-df-convert');\n",
              "        buttonEl.style.display =\n",
              "          google.colab.kernel.accessAllowed ? 'block' : 'none';\n",
              "\n",
              "        async function convertToInteractive(key) {\n",
              "          const element = document.querySelector('#df-2bbd0074-b222-4c30-b880-94674663afcf');\n",
              "          const dataTable =\n",
              "            await google.colab.kernel.invokeFunction('convertToInteractive',\n",
              "                                                     [key], {});\n",
              "          if (!dataTable) return;\n",
              "\n",
              "          const docLinkHtml = 'Like what you see? Visit the ' +\n",
              "            '<a target=\"_blank\" href=https://colab.research.google.com/notebooks/data_table.ipynb>data table notebook</a>'\n",
              "            + ' to learn more about interactive tables.';\n",
              "          element.innerHTML = '';\n",
              "          dataTable['output_type'] = 'display_data';\n",
              "          await google.colab.output.renderOutput(dataTable, element);\n",
              "          const docLink = document.createElement('div');\n",
              "          docLink.innerHTML = docLinkHtml;\n",
              "          element.appendChild(docLink);\n",
              "        }\n",
              "      </script>\n",
              "    </div>\n",
              "  </div>\n",
              "  "
            ]
          },
          "metadata": {},
          "execution_count": 107
        }
      ]
    },
    {
      "cell_type": "markdown",
      "source": [
        "## EDA"
      ],
      "metadata": {
        "id": "Z0IPRFKcTYQu"
      }
    },
    {
      "cell_type": "code",
      "source": [
        "classes_counts = df['class'].value_counts()"
      ],
      "metadata": {
        "id": "9C9nGg6_TSZm"
      },
      "execution_count": 108,
      "outputs": []
    },
    {
      "cell_type": "code",
      "source": [
        "plt.figure(figsize=(10, 10))\n",
        "plt.title(\"Classes frequencies\")\n",
        "sns.barplot(x=classes_counts.values, y=classes_counts.index)\n",
        "plt.show()"
      ],
      "metadata": {
        "colab": {
          "base_uri": "https://localhost:8080/",
          "height": 610
        },
        "id": "gW6bJ0NrTjJT",
        "outputId": "e1a19db6-2aa6-46e9-e56b-c7e86397ed42"
      },
      "execution_count": 109,
      "outputs": [
        {
          "output_type": "display_data",
          "data": {
            "text/plain": [
              "<Figure size 720x720 with 1 Axes>"
            ],
            "image/png": "[encoded data removed]"
          },
          "metadata": {}
        }
      ]
    },
    {
      "cell_type": "markdown",
      "source": [
        "<center> <h2> Conclusion: There is no class domination </<h2> <center>"
      ],
      "metadata": {
        "id": "Ab6Ru-t8UgHs"
      }
    },
    {
      "cell_type": "markdown",
      "source": [
        "## Check for nulls and secret killers"
      ],
      "metadata": {
        "id": "dnuyy7BaVfls"
      }
    },
    {
      "cell_type": "code",
      "source": [
        "df.isnull().sum() / len(df) # Print percentage of NULL"
      ],
      "metadata": {
        "colab": {
          "base_uri": "https://localhost:8080/"
        },
        "id": "zZppqDRgUFar",
        "outputId": "0c90859d-c285-41b2-b725-12bbbef6b566"
      },
      "execution_count": 110,
      "outputs": [
        {
          "output_type": "execute_result",
          "data": {
            "text/plain": [
              "Article    0.0\n",
              "class      0.0\n",
              "dtype: float64"
            ]
          },
          "metadata": {},
          "execution_count": 110
        }
      ]
    },
    {
      "cell_type": "code",
      "source": [
        "df.duplicated().sum() / len(df)"
      ],
      "metadata": {
        "colab": {
          "base_uri": "https://localhost:8080/"
        },
        "id": "ttrHCRgxVnnh",
        "outputId": "43f1efa4-ed4e-42b8-9f52-b9c9fdab5697"
      },
      "execution_count": 111,
      "outputs": [
        {
          "output_type": "execute_result",
          "data": {
            "text/plain": [
              "0.00032967032967032967"
            ]
          },
          "metadata": {},
          "execution_count": 111
        }
      ]
    },
    {
      "cell_type": "markdown",
      "source": [
        "### Removing the duplicates"
      ],
      "metadata": {
        "id": "LudJm4-JXqAa"
      }
    },
    {
      "cell_type": "code",
      "source": [
        "df.drop_duplicates(inplace=True)"
      ],
      "metadata": {
        "id": "kaG5PdArXkSZ"
      },
      "execution_count": 112,
      "outputs": []
    },
    {
      "cell_type": "markdown",
      "source": [
        "## Preprocessing and cleaning text"
      ],
      "metadata": {
        "id": "xOGzwdK3c0I-"
      }
    },
    {
      "cell_type": "markdown",
      "source": [
        " Most of cleaning regex and functions are belongs to this [gist](https://github.com/motazsaad/process-arabic-text/blob/master/clean_arabic_text.py) on github"
      ],
      "metadata": {
        "id": "3siiAxKyd2AF"
      }
    },
    {
      "cell_type": "code",
      "source": [
        "nltk.download('stopwords')\n",
        "nltk.download('punkt')"
      ],
      "metadata": {
        "id": "rH15rj3oXvWg"
      },
      "execution_count": null,
      "outputs": []
    },
    {
      "cell_type": "code",
      "source": [
        "ara_stop_words = list(set(stopwords.words('arabic')))"
      ],
      "metadata": {
        "id": "FW3qJlUSdC1z"
      },
      "execution_count": 121,
      "outputs": []
    },
    {
      "cell_type": "code",
      "source": [
        "ara_stop_words[:10]"
      ],
      "metadata": {
        "colab": {
          "base_uri": "https://localhost:8080/"
        },
        "id": "X4HFuSGVdHhj",
        "outputId": "8c4d5372-5fde-4a8a-fa5b-a9e550cdad3f"
      },
      "execution_count": 117,
      "outputs": [
        {
          "output_type": "execute_result",
          "data": {
            "text/plain": [
              "['ث', 'سقى', 'مذ', 'جويلية', 'سنتيم', 'تاء', 'آمينَ', 'ثلاثمائة', 'أنت', 'ما']"
            ]
          },
          "metadata": {},
          "execution_count": 117
        }
      ]
    },
    {
      "cell_type": "code",
      "source": [
        "arabic_punctuations = '''`÷×؛<>_()*&^%][ـ،/:\"؟.,،'{}~¦+«»`|!”…“–ـ'''\n",
        "english_punctuations = string.punctuation\n",
        "punctuations_list = arabic_punctuations + english_punctuations"
      ],
      "metadata": {
        "id": "uiC8ZOMmdI8L"
      },
      "execution_count": 118,
      "outputs": []
    },
    {
      "cell_type": "code",
      "source": [
        "# This function should delete any diacritics ' التشكيـل ' in the txt\n",
        "def remove_diacritics(text):\n",
        "    arabic_diacritics = re.compile(\"\"\" ّ    | # Tashdid\n",
        "                             َ    | # Fatha\n",
        "                             ً    | # Tanwin Fath\n",
        "                             ُ    | # Damma\n",
        "                             ٌ    | # Tanwin Damm\n",
        "                             ِ    | # Kasra\n",
        "                             ٍ    | # Tanwin Kasr\n",
        "                             ْ    | # Sukun\n",
        "                             ـ     # Tatwil/Kashida\n",
        "                         \"\"\", re.VERBOSE)\n",
        "    text = re.sub(arabic_diacritics, '', str(text))\n",
        "    return text"
      ],
      "metadata": {
        "id": "gS6wASRxdjBs"
      },
      "execution_count": 122,
      "outputs": []
    },
    {
      "cell_type": "code",
      "source": [
        "# This function for deleting any encoded emojis in the text\n",
        "def remove_emoji(text):\n",
        "    regrex_pattern = re.compile(pattern = \"[\"\n",
        "        u\"\\U0001F600-\\U0001F64F\"  # emoticons\n",
        "        u\"\\U0001F300-\\U0001F5FF\"  # symbols & pictographs\n",
        "        u\"\\U0001F680-\\U0001F6FF\"  # transport & map symbols\n",
        "        u\"\\U0001F1E0-\\U0001F1FF\"  # flags (iOS)\n",
        "                           \"]+\", flags = re.UNICODE)\n",
        "    return regrex_pattern.sub(r'',text)"
      ],
      "metadata": {
        "id": "YLPoM3Ezeodb"
      },
      "execution_count": 123,
      "outputs": []
    },
    {
      "cell_type": "code",
      "source": [
        "# This function will remove any digits from the text\n",
        "def remove_digits(txt):\n",
        "  remove_digits = str.maketrans('', '', digits)\n",
        "  res = txt.translate(remove_digits)\n",
        "  return res"
      ],
      "metadata": {
        "id": "nQA7NzrqmWFd"
      },
      "execution_count": 124,
      "outputs": []
    },
    {
      "cell_type": "code",
      "source": [
        "# Final function that make all the process\n",
        "def clean_text(text):\n",
        "    text = remove_emoji(text)\n",
        "    text = remove_diacritics(text)\n",
        "    text = remove_digits(text)\n",
        "    tokens = word_tokenize(text)\n",
        "    text = ' '.join([word for word in tokens if word not in punctuations_list and word not in ara_stop_words])\n",
        "    return text"
      ],
      "metadata": {
        "id": "aon12yqPfFsZ"
      },
      "execution_count": 125,
      "outputs": []
    },
    {
      "cell_type": "code",
      "source": [
        "# Clean the text and add it in a new pandas column, this probably will take sometime\n",
        "df['articles_cln'] = df['Article'].apply(clean_text)"
      ],
      "metadata": {
        "id": "DL6yrtLvfJRp"
      },
      "execution_count": 126,
      "outputs": []
    },
    {
      "cell_type": "code",
      "source": [
        "df.head()"
      ],
      "metadata": {
        "colab": {
          "base_uri": "https://localhost:8080/",
          "height": 206
        },
        "id": "6wP88dnGiEV3",
        "outputId": "879a092a-dc55-415e-9081-56bf1b50dce5"
      },
      "execution_count": 127,
      "outputs": [
        {
          "output_type": "execute_result",
          "data": {
            "text/plain": [
              "                                             Article    class  \\\n",
              "0  الشارقة - عصام همام:انطلقت صباح أمس فعاليات ال...  Medical   \n",
              "1  تنطلق مساء اليوم من مسرح شاطئ الراحة بأبوظبي، ...  Culture   \n",
              "2  في إطار حرصها الدائم لتمكين عملائها من التواصل...     Tech   \n",
              "3  أعلنت وزارة الثقافة والشباب وتنمية المجتمع، عن...  Culture   \n",
              "4  دبي إيمان عبدالله: أكدت الدكتورة نجاة محمد راش...  Medical   \n",
              "\n",
              "                                        articles_cln  \n",
              "0  الشارقة عصام همام انطلقت فعاليات المرحلة الثان...  \n",
              "1  تنطلق اليوم مسرح شاطئ الراحة بأبوظبي، الحلقة ا...  \n",
              "2  إطار حرصها الدائم لتمكين عملائها التواصل أهلهم...  \n",
              "3  أعلنت وزارة الثقافة والشباب وتنمية المجتمع، اس...  \n",
              "4  دبي إيمان عبدالله أكدت الدكتورة نجاة محمد راشد...  "
            ],
            "text/html": [
              "\n",
              "  <div id=\"df-ef2883e6-16b6-4aa8-a4f2-a3b1f85b7d07\">\n",
              "    <div class=\"colab-df-container\">\n",
              "      <div>\n",
              "<style scoped>\n",
              "    .dataframe tbody tr th:only-of-type {\n",
              "        vertical-align: middle;\n",
              "    }\n",
              "\n",
              "    .dataframe tbody tr th {\n",
              "        vertical-align: top;\n",
              "    }\n",
              "\n",
              "    .dataframe thead th {\n",
              "        text-align: right;\n",
              "    }\n",
              "</style>\n",
              "<table border=\"1\" class=\"dataframe\">\n",
              "  <thead>\n",
              "    <tr style=\"text-align: right;\">\n",
              "      <th></th>\n",
              "      <th>Article</th>\n",
              "      <th>class</th>\n",
              "      <th>articles_cln</th>\n",
              "    </tr>\n",
              "  </thead>\n",
              "  <tbody>\n",
              "    <tr>\n",
              "      <th>0</th>\n",
              "      <td>الشارقة - عصام همام:انطلقت صباح أمس فعاليات ال...</td>\n",
              "      <td>Medical</td>\n",
              "      <td>الشارقة عصام همام انطلقت فعاليات المرحلة الثان...</td>\n",
              "    </tr>\n",
              "    <tr>\n",
              "      <th>1</th>\n",
              "      <td>تنطلق مساء اليوم من مسرح شاطئ الراحة بأبوظبي، ...</td>\n",
              "      <td>Culture</td>\n",
              "      <td>تنطلق اليوم مسرح شاطئ الراحة بأبوظبي، الحلقة ا...</td>\n",
              "    </tr>\n",
              "    <tr>\n",
              "      <th>2</th>\n",
              "      <td>في إطار حرصها الدائم لتمكين عملائها من التواصل...</td>\n",
              "      <td>Tech</td>\n",
              "      <td>إطار حرصها الدائم لتمكين عملائها التواصل أهلهم...</td>\n",
              "    </tr>\n",
              "    <tr>\n",
              "      <th>3</th>\n",
              "      <td>أعلنت وزارة الثقافة والشباب وتنمية المجتمع، عن...</td>\n",
              "      <td>Culture</td>\n",
              "      <td>أعلنت وزارة الثقافة والشباب وتنمية المجتمع، اس...</td>\n",
              "    </tr>\n",
              "    <tr>\n",
              "      <th>4</th>\n",
              "      <td>دبي إيمان عبدالله: أكدت الدكتورة نجاة محمد راش...</td>\n",
              "      <td>Medical</td>\n",
              "      <td>دبي إيمان عبدالله أكدت الدكتورة نجاة محمد راشد...</td>\n",
              "    </tr>\n",
              "  </tbody>\n",
              "</table>\n",
              "</div>\n",
              "      <button class=\"colab-df-convert\" onclick=\"convertToInteractive('df-ef2883e6-16b6-4aa8-a4f2-a3b1f85b7d07')\"\n",
              "              title=\"Convert this dataframe to an interactive table.\"\n",
              "              style=\"display:none;\">\n",
              "        \n",
              "  <svg xmlns=\"http://www.w3.org/2000/svg\" height=\"24px\"viewBox=\"0 0 24 24\"\n",
              "       width=\"24px\">\n",
              "    <path d=\"M0 0h24v24H0V0z\" fill=\"none\"/>\n",
              "    <path d=\"M18.56 5.44l.94 2.06.94-2.06 2.06-.94-2.06-.94-.94-2.06-.94 2.06-2.06.94zm-11 1L8.5 8.5l.94-2.06 2.06-.94-2.06-.94L8.5 2.5l-.94 2.06-2.06.94zm10 10l.94 2.06.94-2.06 2.06-.94-2.06-.94-.94-2.06-.94 2.06-2.06.94z\"/><path d=\"M17.41 7.96l-1.37-1.37c-.4-.4-.92-.59-1.43-.59-.52 0-1.04.2-1.43.59L10.3 9.45l-7.72 7.72c-.78.78-.78 2.05 0 2.83L4 21.41c.39.39.9.59 1.41.59.51 0 1.02-.2 1.41-.59l7.78-7.78 2.81-2.81c.8-.78.8-2.07 0-2.86zM5.41 20L4 18.59l7.72-7.72 1.47 1.35L5.41 20z\"/>\n",
              "  </svg>\n",
              "      </button>\n",
              "      \n",
              "  <style>\n",
              "    .colab-df-container {\n",
              "      display:flex;\n",
              "      flex-wrap:wrap;\n",
              "      gap: 12px;\n",
              "    }\n",
              "\n",
              "    .colab-df-convert {\n",
              "      background-color: #E8F0FE;\n",
              "      border: none;\n",
              "      border-radius: 50%;\n",
              "      cursor: pointer;\n",
              "      display: none;\n",
              "      fill: #1967D2;\n",
              "      height: 32px;\n",
              "      padding: 0 0 0 0;\n",
              "      width: 32px;\n",
              "    }\n",
              "\n",
              "    .colab-df-convert:hover {\n",
              "      background-color: #E2EBFA;\n",
              "      box-shadow: 0px 1px 2px rgba(60, 64, 67, 0.3), 0px 1px 3px 1px rgba(60, 64, 67, 0.15);\n",
              "      fill: #174EA6;\n",
              "    }\n",
              "\n",
              "    [theme=dark] .colab-df-convert {\n",
              "      background-color: #3B4455;\n",
              "      fill: #D2E3FC;\n",
              "    }\n",
              "\n",
              "    [theme=dark] .colab-df-convert:hover {\n",
              "      background-color: #434B5C;\n",
              "      box-shadow: 0px 1px 3px 1px rgba(0, 0, 0, 0.15);\n",
              "      filter: drop-shadow(0px 1px 2px rgba(0, 0, 0, 0.3));\n",
              "      fill: #FFFFFF;\n",
              "    }\n",
              "  </style>\n",
              "\n",
              "      <script>\n",
              "        const buttonEl =\n",
              "          document.querySelector('#df-ef2883e6-16b6-4aa8-a4f2-a3b1f85b7d07 button.colab-df-convert');\n",
              "        buttonEl.style.display =\n",
              "          google.colab.kernel.accessAllowed ? 'block' : 'none';\n",
              "\n",
              "        async function convertToInteractive(key) {\n",
              "          const element = document.querySelector('#df-ef2883e6-16b6-4aa8-a4f2-a3b1f85b7d07');\n",
              "          const dataTable =\n",
              "            await google.colab.kernel.invokeFunction('convertToInteractive',\n",
              "                                                     [key], {});\n",
              "          if (!dataTable) return;\n",
              "\n",
              "          const docLinkHtml = 'Like what you see? Visit the ' +\n",
              "            '<a target=\"_blank\" href=https://colab.research.google.com/notebooks/data_table.ipynb>data table notebook</a>'\n",
              "            + ' to learn more about interactive tables.';\n",
              "          element.innerHTML = '';\n",
              "          dataTable['output_type'] = 'display_data';\n",
              "          await google.colab.output.renderOutput(dataTable, element);\n",
              "          const docLink = document.createElement('div');\n",
              "          docLink.innerHTML = docLinkHtml;\n",
              "          element.appendChild(docLink);\n",
              "        }\n",
              "      </script>\n",
              "    </div>\n",
              "  </div>\n",
              "  "
            ]
          },
          "metadata": {},
          "execution_count": 127
        }
      ]
    },
    {
      "cell_type": "markdown",
      "source": [
        "## Transofrm the labels into numbers"
      ],
      "metadata": {
        "id": "ltwY4w99sVxY"
      }
    },
    {
      "cell_type": "code",
      "source": [
        "label_encoder = LabelEncoder()\n",
        "df['class'] = label_encoder.fit_transform(df['class'])"
      ],
      "metadata": {
        "id": "w8jqcI63sZ1w"
      },
      "execution_count": 128,
      "outputs": []
    },
    {
      "cell_type": "code",
      "source": [
        "df.head()"
      ],
      "metadata": {
        "colab": {
          "base_uri": "https://localhost:8080/",
          "height": 206
        },
        "id": "ifcC9KcosmuG",
        "outputId": "d9b1e556-e642-4eb8-8b3b-c0af726bdb5b"
      },
      "execution_count": 129,
      "outputs": [
        {
          "output_type": "execute_result",
          "data": {
            "text/plain": [
              "                                             Article  class  \\\n",
              "0  الشارقة - عصام همام:انطلقت صباح أمس فعاليات ال...      2   \n",
              "1  تنطلق مساء اليوم من مسرح شاطئ الراحة بأبوظبي، ...      0   \n",
              "2  في إطار حرصها الدائم لتمكين عملائها من التواصل...      6   \n",
              "3  أعلنت وزارة الثقافة والشباب وتنمية المجتمع، عن...      0   \n",
              "4  دبي إيمان عبدالله: أكدت الدكتورة نجاة محمد راش...      2   \n",
              "\n",
              "                                        articles_cln  \n",
              "0  الشارقة عصام همام انطلقت فعاليات المرحلة الثان...  \n",
              "1  تنطلق اليوم مسرح شاطئ الراحة بأبوظبي، الحلقة ا...  \n",
              "2  إطار حرصها الدائم لتمكين عملائها التواصل أهلهم...  \n",
              "3  أعلنت وزارة الثقافة والشباب وتنمية المجتمع، اس...  \n",
              "4  دبي إيمان عبدالله أكدت الدكتورة نجاة محمد راشد...  "
            ],
            "text/html": [
              "\n",
              "  <div id=\"df-0845203c-c7c7-4bc2-bb0b-6fe5873f0f82\">\n",
              "    <div class=\"colab-df-container\">\n",
              "      <div>\n",
              "<style scoped>\n",
              "    .dataframe tbody tr th:only-of-type {\n",
              "        vertical-align: middle;\n",
              "    }\n",
              "\n",
              "    .dataframe tbody tr th {\n",
              "        vertical-align: top;\n",
              "    }\n",
              "\n",
              "    .dataframe thead th {\n",
              "        text-align: right;\n",
              "    }\n",
              "</style>\n",
              "<table border=\"1\" class=\"dataframe\">\n",
              "  <thead>\n",
              "    <tr style=\"text-align: right;\">\n",
              "      <th></th>\n",
              "      <th>Article</th>\n",
              "      <th>class</th>\n",
              "      <th>articles_cln</th>\n",
              "    </tr>\n",
              "  </thead>\n",
              "  <tbody>\n",
              "    <tr>\n",
              "      <th>0</th>\n",
              "      <td>الشارقة - عصام همام:انطلقت صباح أمس فعاليات ال...</td>\n",
              "      <td>2</td>\n",
              "      <td>الشارقة عصام همام انطلقت فعاليات المرحلة الثان...</td>\n",
              "    </tr>\n",
              "    <tr>\n",
              "      <th>1</th>\n",
              "      <td>تنطلق مساء اليوم من مسرح شاطئ الراحة بأبوظبي، ...</td>\n",
              "      <td>0</td>\n",
              "      <td>تنطلق اليوم مسرح شاطئ الراحة بأبوظبي، الحلقة ا...</td>\n",
              "    </tr>\n",
              "    <tr>\n",
              "      <th>2</th>\n",
              "      <td>في إطار حرصها الدائم لتمكين عملائها من التواصل...</td>\n",
              "      <td>6</td>\n",
              "      <td>إطار حرصها الدائم لتمكين عملائها التواصل أهلهم...</td>\n",
              "    </tr>\n",
              "    <tr>\n",
              "      <th>3</th>\n",
              "      <td>أعلنت وزارة الثقافة والشباب وتنمية المجتمع، عن...</td>\n",
              "      <td>0</td>\n",
              "      <td>أعلنت وزارة الثقافة والشباب وتنمية المجتمع، اس...</td>\n",
              "    </tr>\n",
              "    <tr>\n",
              "      <th>4</th>\n",
              "      <td>دبي إيمان عبدالله: أكدت الدكتورة نجاة محمد راش...</td>\n",
              "      <td>2</td>\n",
              "      <td>دبي إيمان عبدالله أكدت الدكتورة نجاة محمد راشد...</td>\n",
              "    </tr>\n",
              "  </tbody>\n",
              "</table>\n",
              "</div>\n",
              "      <button class=\"colab-df-convert\" onclick=\"convertToInteractive('df-0845203c-c7c7-4bc2-bb0b-6fe5873f0f82')\"\n",
              "              title=\"Convert this dataframe to an interactive table.\"\n",
              "              style=\"display:none;\">\n",
              "        \n",
              "  <svg xmlns=\"http://www.w3.org/2000/svg\" height=\"24px\"viewBox=\"0 0 24 24\"\n",
              "       width=\"24px\">\n",
              "    <path d=\"M0 0h24v24H0V0z\" fill=\"none\"/>\n",
              "    <path d=\"M18.56 5.44l.94 2.06.94-2.06 2.06-.94-2.06-.94-.94-2.06-.94 2.06-2.06.94zm-11 1L8.5 8.5l.94-2.06 2.06-.94-2.06-.94L8.5 2.5l-.94 2.06-2.06.94zm10 10l.94 2.06.94-2.06 2.06-.94-2.06-.94-.94-2.06-.94 2.06-2.06.94z\"/><path d=\"M17.41 7.96l-1.37-1.37c-.4-.4-.92-.59-1.43-.59-.52 0-1.04.2-1.43.59L10.3 9.45l-7.72 7.72c-.78.78-.78 2.05 0 2.83L4 21.41c.39.39.9.59 1.41.59.51 0 1.02-.2 1.41-.59l7.78-7.78 2.81-2.81c.8-.78.8-2.07 0-2.86zM5.41 20L4 18.59l7.72-7.72 1.47 1.35L5.41 20z\"/>\n",
              "  </svg>\n",
              "      </button>\n",
              "      \n",
              "  <style>\n",
              "    .colab-df-container {\n",
              "      display:flex;\n",
              "      flex-wrap:wrap;\n",
              "      gap: 12px;\n",
              "    }\n",
              "\n",
              "    .colab-df-convert {\n",
              "      background-color: #E8F0FE;\n",
              "      border: none;\n",
              "      border-radius: 50%;\n",
              "      cursor: pointer;\n",
              "      display: none;\n",
              "      fill: #1967D2;\n",
              "      height: 32px;\n",
              "      padding: 0 0 0 0;\n",
              "      width: 32px;\n",
              "    }\n",
              "\n",
              "    .colab-df-convert:hover {\n",
              "      background-color: #E2EBFA;\n",
              "      box-shadow: 0px 1px 2px rgba(60, 64, 67, 0.3), 0px 1px 3px 1px rgba(60, 64, 67, 0.15);\n",
              "      fill: #174EA6;\n",
              "    }\n",
              "\n",
              "    [theme=dark] .colab-df-convert {\n",
              "      background-color: #3B4455;\n",
              "      fill: #D2E3FC;\n",
              "    }\n",
              "\n",
              "    [theme=dark] .colab-df-convert:hover {\n",
              "      background-color: #434B5C;\n",
              "      box-shadow: 0px 1px 3px 1px rgba(0, 0, 0, 0.15);\n",
              "      filter: drop-shadow(0px 1px 2px rgba(0, 0, 0, 0.3));\n",
              "      fill: #FFFFFF;\n",
              "    }\n",
              "  </style>\n",
              "\n",
              "      <script>\n",
              "        const buttonEl =\n",
              "          document.querySelector('#df-0845203c-c7c7-4bc2-bb0b-6fe5873f0f82 button.colab-df-convert');\n",
              "        buttonEl.style.display =\n",
              "          google.colab.kernel.accessAllowed ? 'block' : 'none';\n",
              "\n",
              "        async function convertToInteractive(key) {\n",
              "          const element = document.querySelector('#df-0845203c-c7c7-4bc2-bb0b-6fe5873f0f82');\n",
              "          const dataTable =\n",
              "            await google.colab.kernel.invokeFunction('convertToInteractive',\n",
              "                                                     [key], {});\n",
              "          if (!dataTable) return;\n",
              "\n",
              "          const docLinkHtml = 'Like what you see? Visit the ' +\n",
              "            '<a target=\"_blank\" href=https://colab.research.google.com/notebooks/data_table.ipynb>data table notebook</a>'\n",
              "            + ' to learn more about interactive tables.';\n",
              "          element.innerHTML = '';\n",
              "          dataTable['output_type'] = 'display_data';\n",
              "          await google.colab.output.renderOutput(dataTable, element);\n",
              "          const docLink = document.createElement('div');\n",
              "          docLink.innerHTML = docLinkHtml;\n",
              "          element.appendChild(docLink);\n",
              "        }\n",
              "      </script>\n",
              "    </div>\n",
              "  </div>\n",
              "  "
            ]
          },
          "metadata": {},
          "execution_count": 129
        }
      ]
    },
    {
      "cell_type": "markdown",
      "source": [
        "## Build the features and the model"
      ],
      "metadata": {
        "id": "7V5Z7PpZo0DT"
      }
    },
    {
      "cell_type": "code",
      "source": [
        "X = df['articles_cln']\n",
        "y = df['class']"
      ],
      "metadata": {
        "id": "wo_-aRwTpoBC"
      },
      "execution_count": 130,
      "outputs": []
    },
    {
      "cell_type": "code",
      "source": [
        "X_train, X_test, y_train, y_test = train_test_split(X, y, test_size=0.25)"
      ],
      "metadata": {
        "id": "LUjBIbJ1lCz7"
      },
      "execution_count": 131,
      "outputs": []
    },
    {
      "cell_type": "markdown",
      "source": [
        "### Build sklearn pipline"
      ],
      "metadata": {
        "id": "rIcM-TOypz8i"
      }
    },
    {
      "cell_type": "code",
      "source": [
        "vectorizer = TfidfVectorizer()\n",
        "gaussian = MultinomialNB()\n",
        "SVM = LinearSVC()"
      ],
      "metadata": {
        "id": "9IUo8R3Vpzs6"
      },
      "execution_count": 132,
      "outputs": []
    },
    {
      "cell_type": "code",
      "source": [
        "classifier_naive = Pipeline([\n",
        "    ('tfidf', TfidfVectorizer()),\n",
        "    ('clf', MultinomialNB())])"
      ],
      "metadata": {
        "id": "U3IkCurzpxxg"
      },
      "execution_count": 133,
      "outputs": []
    },
    {
      "cell_type": "code",
      "source": [
        "classifier_naive.fit(X_train, y_train)  "
      ],
      "metadata": {
        "colab": {
          "base_uri": "https://localhost:8080/"
        },
        "id": "dXbHCiFWql7_",
        "outputId": "07d901e3-08f3-4041-bd77-022b16412425"
      },
      "execution_count": 134,
      "outputs": [
        {
          "output_type": "execute_result",
          "data": {
            "text/plain": [
              "Pipeline(steps=[('tfidf', TfidfVectorizer()), ('clf', MultinomialNB())])"
            ]
          },
          "metadata": {},
          "execution_count": 134
        }
      ]
    },
    {
      "cell_type": "markdown",
      "source": [
        "## Predict with naive bayes model"
      ],
      "metadata": {
        "id": "NqfodoMttmlQ"
      }
    },
    {
      "cell_type": "code",
      "source": [
        "y_pred = classifier_naive.predict(X_test)"
      ],
      "metadata": {
        "id": "Qz4sPwm1sybO"
      },
      "execution_count": 135,
      "outputs": []
    },
    {
      "cell_type": "code",
      "source": [
        "print(classification_report(y_test, y_pred))"
      ],
      "metadata": {
        "colab": {
          "base_uri": "https://localhost:8080/"
        },
        "id": "3uuab-eRttlL",
        "outputId": "8cd91ccb-e862-4888-f867-40e30035a883"
      },
      "execution_count": 136,
      "outputs": [
        {
          "output_type": "stream",
          "name": "stdout",
          "text": [
            "              precision    recall  f1-score   support\n",
            "\n",
            "           0       0.93      0.96      0.95      1636\n",
            "           1       0.99      0.93      0.96      1614\n",
            "           2       0.94      0.98      0.96      1575\n",
            "           3       0.97      0.97      0.97      1624\n",
            "           4       0.96      0.91      0.93      1660\n",
            "           5       1.00      0.99      0.99      1632\n",
            "           6       0.91      0.98      0.94      1631\n",
            "\n",
            "    accuracy                           0.96     11372\n",
            "   macro avg       0.96      0.96      0.96     11372\n",
            "weighted avg       0.96      0.96      0.96     11372\n",
            "\n"
          ]
        }
      ]
    },
    {
      "cell_type": "markdown",
      "source": [
        "## Test the model"
      ],
      "metadata": {
        "id": "fgIWBMZgu5rl"
      }
    },
    {
      "cell_type": "code",
      "source": [
        "dataset.class_names"
      ],
      "metadata": {
        "colab": {
          "base_uri": "https://localhost:8080/"
        },
        "id": "TuAxfhzctxuT",
        "outputId": "6b850ca4-f9db-435d-c746-81e8fed24a9a"
      },
      "execution_count": 137,
      "outputs": [
        {
          "output_type": "execute_result",
          "data": {
            "text/plain": [
              "['Culture', 'Finance', 'Medical', 'Politics', 'Religion', 'Sports', 'Tech']"
            ]
          },
          "metadata": {},
          "execution_count": 137
        }
      ]
    },
    {
      "cell_type": "code",
      "source": [
        "y_yest_naive = classifier_naive.predict(['الإسلام والمسيحية'])[0] "
      ],
      "metadata": {
        "id": "7TaO0mgeu9uK"
      },
      "execution_count": 138,
      "outputs": []
    },
    {
      "cell_type": "code",
      "source": [
        "label_encoder.inverse_transform([y_yest_naive])[0]"
      ],
      "metadata": {
        "colab": {
          "base_uri": "https://localhost:8080/",
          "height": 35
        },
        "id": "fS3uk2etvWAS",
        "outputId": "31df8fdd-9484-4257-aedd-d7953b67edea"
      },
      "execution_count": 140,
      "outputs": [
        {
          "output_type": "execute_result",
          "data": {
            "text/plain": [
              "'Religion'"
            ],
            "application/vnd.google.colaboratory.intrinsic+json": {
              "type": "string"
            }
          },
          "metadata": {},
          "execution_count": 140
        }
      ]
    },
    {
      "cell_type": "markdown",
      "source": [
        "## Test the SVM model"
      ],
      "metadata": {
        "id": "v9WBwZaMwlAj"
      }
    },
    {
      "cell_type": "code",
      "source": [
        "classifier_svm = Pipeline([\n",
        "    ('tfidf', TfidfVectorizer()),\n",
        "    ('clf', LinearSVC())])"
      ],
      "metadata": {
        "id": "dyruUSR8vsJz"
      },
      "execution_count": 141,
      "outputs": []
    },
    {
      "cell_type": "code",
      "source": [
        "classifier_svm.fit(X_train, y_train)"
      ],
      "metadata": {
        "colab": {
          "base_uri": "https://localhost:8080/"
        },
        "id": "vLwx6F6NwwFY",
        "outputId": "fab59d4b-2f0e-4194-aa93-b43c2e11002f"
      },
      "execution_count": 142,
      "outputs": [
        {
          "output_type": "execute_result",
          "data": {
            "text/plain": [
              "Pipeline(steps=[('tfidf', TfidfVectorizer()), ('clf', LinearSVC())])"
            ]
          },
          "metadata": {},
          "execution_count": 142
        }
      ]
    },
    {
      "cell_type": "code",
      "source": [
        "y_pred_2 = classifier_svm.predict(X_test)"
      ],
      "metadata": {
        "id": "kIcK1ABIw2Yq"
      },
      "execution_count": 143,
      "outputs": []
    },
    {
      "cell_type": "code",
      "source": [
        "print(classification_report(y_test, y_pred_2))"
      ],
      "metadata": {
        "colab": {
          "base_uri": "https://localhost:8080/"
        },
        "id": "ni9qBaW6w8nQ",
        "outputId": "e633dfe6-3bf8-40ce-d4f5-e59fe62437e6"
      },
      "execution_count": 144,
      "outputs": [
        {
          "output_type": "stream",
          "name": "stdout",
          "text": [
            "              precision    recall  f1-score   support\n",
            "\n",
            "           0       0.97      0.98      0.97      1636\n",
            "           1       0.99      0.98      0.99      1614\n",
            "           2       0.98      0.98      0.98      1575\n",
            "           3       0.98      0.99      0.98      1624\n",
            "           4       0.97      0.96      0.97      1660\n",
            "           5       0.99      0.99      0.99      1632\n",
            "           6       0.98      0.98      0.98      1631\n",
            "\n",
            "    accuracy                           0.98     11372\n",
            "   macro avg       0.98      0.98      0.98     11372\n",
            "weighted avg       0.98      0.98      0.98     11372\n",
            "\n"
          ]
        }
      ]
    },
    {
      "cell_type": "markdown",
      "source": [
        "<h1>The SVM look better in this case..</h1>"
      ],
      "metadata": {
        "id": "zZPNG9NnxDN3"
      }
    },
    {
      "cell_type": "code",
      "source": [
        "y_yest_svm = classifier_svm.predict(['الإسلام والمسيحية'])[0] "
      ],
      "metadata": {
        "id": "R7_4b5lGxCIY"
      },
      "execution_count": 145,
      "outputs": []
    },
    {
      "cell_type": "code",
      "source": [
        "label_encoder.inverse_transform([y_yest_svm])[0]"
      ],
      "metadata": {
        "colab": {
          "base_uri": "https://localhost:8080/",
          "height": 35
        },
        "id": "MaDJ4YnKxN1I",
        "outputId": "ac8923ef-3506-45dc-f547-c7ee6130fc8b"
      },
      "execution_count": 146,
      "outputs": [
        {
          "output_type": "execute_result",
          "data": {
            "text/plain": [
              "'Religion'"
            ],
            "application/vnd.google.colaboratory.intrinsic+json": {
              "type": "string"
            }
          },
          "metadata": {},
          "execution_count": 146
        }
      ]
    },
    {
      "cell_type": "code",
      "source": [
        "y_yest_svm_2 = classifier_svm.predict(['محمد أبو تريكة يعتبر من أشهر لاعبي كرة القدم المصرية'])[0] "
      ],
      "metadata": {
        "id": "5Jq79KjrxSMf"
      },
      "execution_count": 147,
      "outputs": []
    },
    {
      "cell_type": "code",
      "source": [
        "label_encoder.inverse_transform([y_yest_svm_2])[0]"
      ],
      "metadata": {
        "colab": {
          "base_uri": "https://localhost:8080/",
          "height": 35
        },
        "id": "GZl7k7rzxmFo",
        "outputId": "6209bf4b-55b0-4636-f448-3f0894573298"
      },
      "execution_count": 148,
      "outputs": [
        {
          "output_type": "execute_result",
          "data": {
            "text/plain": [
              "'Sports'"
            ],
            "application/vnd.google.colaboratory.intrinsic+json": {
              "type": "string"
            }
          },
          "metadata": {},
          "execution_count": 148
        }
      ]
    }
  ]
}
